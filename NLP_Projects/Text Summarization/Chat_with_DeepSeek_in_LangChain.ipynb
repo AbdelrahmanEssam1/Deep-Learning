{
  "metadata": {
    "kernelspec": {
      "display_name": "Python 3",
      "name": "python3"
    },
    "language_info": {
      "name": "python",
      "version": "3.11.11",
      "mimetype": "text/x-python",
      "codemirror_mode": {
        "name": "ipython",
        "version": 3
      },
      "pygments_lexer": "ipython3",
      "nbconvert_exporter": "python",
      "file_extension": ".py"
    },
    "kaggle": {
      "accelerator": "gpu",
      "dataSources": [],
      "dockerImageVersionId": 31041,
      "isInternetEnabled": true,
      "language": "python",
      "sourceType": "notebook",
      "isGpuEnabled": true
    },
    "colab": {
      "name": "Chat with DeepSeek in LangChain",
      "provenance": [],
      "gpuType": "T4"
    },
    "accelerator": "GPU"
  },
  "nbformat_minor": 0,
  "nbformat": 4,
  "cells": [
    {
      "cell_type": "code",
      "source": [
        "!pip install langchain deepseek langchain-openai\n",
        "!pip install langchain-community huggingface_hub"
      ],
      "metadata": {
        "_uuid": "8f2839f25d086af736a60e9eeb907d3b93b6e0e5",
        "_cell_guid": "b1076dfc-b9ad-4769-8c92-a6c4dae69d19",
        "trusted": true,
        "execution": {
          "iopub.status.busy": "2025-07-08T14:45:04.103297Z",
          "iopub.execute_input": "2025-07-08T14:45:04.10359Z",
          "iopub.status.idle": "2025-07-08T14:45:10.461924Z",
          "shell.execute_reply.started": "2025-07-08T14:45:04.103567Z",
          "shell.execute_reply": "2025-07-08T14:45:10.46118Z"
        },
        "collapsed": true,
        "id": "8MrwgkHciAHM",
        "outputId": "dbf99bfc-e1e6-4b7a-8468-30c1f9c7dfea",
        "colab": {
          "base_uri": "https://localhost:8080/"
        }
      },
      "outputs": [
        {
          "output_type": "stream",
          "name": "stdout",
          "text": [
            "Requirement already satisfied: langchain in /usr/local/lib/python3.11/dist-packages (0.3.26)\n",
            "Collecting deepseek\n",
            "  Downloading deepseek-1.0.0-py3-none-any.whl.metadata (3.9 kB)\n",
            "Collecting langchain-openai\n",
            "  Downloading langchain_openai-0.3.27-py3-none-any.whl.metadata (2.3 kB)\n",
            "Requirement already satisfied: langchain-core<1.0.0,>=0.3.66 in /usr/local/lib/python3.11/dist-packages (from langchain) (0.3.67)\n",
            "Requirement already satisfied: langchain-text-splitters<1.0.0,>=0.3.8 in /usr/local/lib/python3.11/dist-packages (from langchain) (0.3.8)\n",
            "Requirement already satisfied: langsmith>=0.1.17 in /usr/local/lib/python3.11/dist-packages (from langchain) (0.4.4)\n",
            "Requirement already satisfied: pydantic<3.0.0,>=2.7.4 in /usr/local/lib/python3.11/dist-packages (from langchain) (2.11.7)\n",
            "Requirement already satisfied: SQLAlchemy<3,>=1.4 in /usr/local/lib/python3.11/dist-packages (from langchain) (2.0.41)\n",
            "Requirement already satisfied: requests<3,>=2 in /usr/local/lib/python3.11/dist-packages (from langchain) (2.32.3)\n",
            "Requirement already satisfied: PyYAML>=5.3 in /usr/local/lib/python3.11/dist-packages (from langchain) (6.0.2)\n",
            "Requirement already satisfied: openai<2.0.0,>=1.86.0 in /usr/local/lib/python3.11/dist-packages (from langchain-openai) (1.93.0)\n",
            "Requirement already satisfied: tiktoken<1,>=0.7 in /usr/local/lib/python3.11/dist-packages (from langchain-openai) (0.9.0)\n",
            "Requirement already satisfied: tenacity!=8.4.0,<10.0.0,>=8.1.0 in /usr/local/lib/python3.11/dist-packages (from langchain-core<1.0.0,>=0.3.66->langchain) (8.5.0)\n",
            "Requirement already satisfied: jsonpatch<2.0,>=1.33 in /usr/local/lib/python3.11/dist-packages (from langchain-core<1.0.0,>=0.3.66->langchain) (1.33)\n",
            "Requirement already satisfied: packaging<25,>=23.2 in /usr/local/lib/python3.11/dist-packages (from langchain-core<1.0.0,>=0.3.66->langchain) (24.2)\n",
            "Requirement already satisfied: typing-extensions>=4.7 in /usr/local/lib/python3.11/dist-packages (from langchain-core<1.0.0,>=0.3.66->langchain) (4.14.0)\n",
            "Requirement already satisfied: httpx<1,>=0.23.0 in /usr/local/lib/python3.11/dist-packages (from langsmith>=0.1.17->langchain) (0.28.1)\n",
            "Requirement already satisfied: orjson<4.0.0,>=3.9.14 in /usr/local/lib/python3.11/dist-packages (from langsmith>=0.1.17->langchain) (3.10.18)\n",
            "Requirement already satisfied: requests-toolbelt<2.0.0,>=1.0.0 in /usr/local/lib/python3.11/dist-packages (from langsmith>=0.1.17->langchain) (1.0.0)\n",
            "Requirement already satisfied: zstandard<0.24.0,>=0.23.0 in /usr/local/lib/python3.11/dist-packages (from langsmith>=0.1.17->langchain) (0.23.0)\n",
            "Requirement already satisfied: anyio<5,>=3.5.0 in /usr/local/lib/python3.11/dist-packages (from openai<2.0.0,>=1.86.0->langchain-openai) (4.9.0)\n",
            "Requirement already satisfied: distro<2,>=1.7.0 in /usr/local/lib/python3.11/dist-packages (from openai<2.0.0,>=1.86.0->langchain-openai) (1.9.0)\n",
            "Requirement already satisfied: jiter<1,>=0.4.0 in /usr/local/lib/python3.11/dist-packages (from openai<2.0.0,>=1.86.0->langchain-openai) (0.10.0)\n",
            "Requirement already satisfied: sniffio in /usr/local/lib/python3.11/dist-packages (from openai<2.0.0,>=1.86.0->langchain-openai) (1.3.1)\n",
            "Requirement already satisfied: tqdm>4 in /usr/local/lib/python3.11/dist-packages (from openai<2.0.0,>=1.86.0->langchain-openai) (4.67.1)\n",
            "Requirement already satisfied: annotated-types>=0.6.0 in /usr/local/lib/python3.11/dist-packages (from pydantic<3.0.0,>=2.7.4->langchain) (0.7.0)\n",
            "Requirement already satisfied: pydantic-core==2.33.2 in /usr/local/lib/python3.11/dist-packages (from pydantic<3.0.0,>=2.7.4->langchain) (2.33.2)\n",
            "Requirement already satisfied: typing-inspection>=0.4.0 in /usr/local/lib/python3.11/dist-packages (from pydantic<3.0.0,>=2.7.4->langchain) (0.4.1)\n",
            "Requirement already satisfied: charset-normalizer<4,>=2 in /usr/local/lib/python3.11/dist-packages (from requests<3,>=2->langchain) (3.4.2)\n",
            "Requirement already satisfied: idna<4,>=2.5 in /usr/local/lib/python3.11/dist-packages (from requests<3,>=2->langchain) (3.10)\n",
            "Requirement already satisfied: urllib3<3,>=1.21.1 in /usr/local/lib/python3.11/dist-packages (from requests<3,>=2->langchain) (2.4.0)\n",
            "Requirement already satisfied: certifi>=2017.4.17 in /usr/local/lib/python3.11/dist-packages (from requests<3,>=2->langchain) (2025.6.15)\n",
            "Requirement already satisfied: greenlet>=1 in /usr/local/lib/python3.11/dist-packages (from SQLAlchemy<3,>=1.4->langchain) (3.2.3)\n",
            "Requirement already satisfied: regex>=2022.1.18 in /usr/local/lib/python3.11/dist-packages (from tiktoken<1,>=0.7->langchain-openai) (2024.11.6)\n",
            "Requirement already satisfied: httpcore==1.* in /usr/local/lib/python3.11/dist-packages (from httpx<1,>=0.23.0->langsmith>=0.1.17->langchain) (1.0.9)\n",
            "Requirement already satisfied: h11>=0.16 in /usr/local/lib/python3.11/dist-packages (from httpcore==1.*->httpx<1,>=0.23.0->langsmith>=0.1.17->langchain) (0.16.0)\n",
            "Requirement already satisfied: jsonpointer>=1.9 in /usr/local/lib/python3.11/dist-packages (from jsonpatch<2.0,>=1.33->langchain-core<1.0.0,>=0.3.66->langchain) (3.0.0)\n",
            "Downloading deepseek-1.0.0-py3-none-any.whl (4.5 kB)\n",
            "Downloading langchain_openai-0.3.27-py3-none-any.whl (70 kB)\n",
            "\u001b[2K   \u001b[90m━━━━━━━━━━━━━━━━━━━━━━━━━━━━━━━━━━━━━━━━\u001b[0m \u001b[32m70.4/70.4 kB\u001b[0m \u001b[31m8.9 MB/s\u001b[0m eta \u001b[36m0:00:00\u001b[0m\n",
            "\u001b[?25hInstalling collected packages: deepseek, langchain-openai\n",
            "Successfully installed deepseek-1.0.0 langchain-openai-0.3.27\n",
            "Collecting langchain-community\n",
            "  Downloading langchain_community-0.3.27-py3-none-any.whl.metadata (2.9 kB)\n",
            "Requirement already satisfied: huggingface_hub in /usr/local/lib/python3.11/dist-packages (0.33.1)\n",
            "Requirement already satisfied: langchain-core<1.0.0,>=0.3.66 in /usr/local/lib/python3.11/dist-packages (from langchain-community) (0.3.67)\n",
            "Requirement already satisfied: langchain<1.0.0,>=0.3.26 in /usr/local/lib/python3.11/dist-packages (from langchain-community) (0.3.26)\n",
            "Requirement already satisfied: SQLAlchemy<3,>=1.4 in /usr/local/lib/python3.11/dist-packages (from langchain-community) (2.0.41)\n",
            "Requirement already satisfied: requests<3,>=2 in /usr/local/lib/python3.11/dist-packages (from langchain-community) (2.32.3)\n",
            "Requirement already satisfied: PyYAML>=5.3 in /usr/local/lib/python3.11/dist-packages (from langchain-community) (6.0.2)\n",
            "Requirement already satisfied: aiohttp<4.0.0,>=3.8.3 in /usr/local/lib/python3.11/dist-packages (from langchain-community) (3.11.15)\n",
            "Requirement already satisfied: tenacity!=8.4.0,<10,>=8.1.0 in /usr/local/lib/python3.11/dist-packages (from langchain-community) (8.5.0)\n",
            "Collecting dataclasses-json<0.7,>=0.5.7 (from langchain-community)\n",
            "  Downloading dataclasses_json-0.6.7-py3-none-any.whl.metadata (25 kB)\n",
            "Collecting pydantic-settings<3.0.0,>=2.4.0 (from langchain-community)\n",
            "  Downloading pydantic_settings-2.10.1-py3-none-any.whl.metadata (3.4 kB)\n",
            "Requirement already satisfied: langsmith>=0.1.125 in /usr/local/lib/python3.11/dist-packages (from langchain-community) (0.4.4)\n",
            "Collecting httpx-sse<1.0.0,>=0.4.0 (from langchain-community)\n",
            "  Downloading httpx_sse-0.4.1-py3-none-any.whl.metadata (9.4 kB)\n",
            "Requirement already satisfied: numpy>=1.26.2 in /usr/local/lib/python3.11/dist-packages (from langchain-community) (2.0.2)\n",
            "Requirement already satisfied: filelock in /usr/local/lib/python3.11/dist-packages (from huggingface_hub) (3.18.0)\n",
            "Requirement already satisfied: fsspec>=2023.5.0 in /usr/local/lib/python3.11/dist-packages (from huggingface_hub) (2025.3.2)\n",
            "Requirement already satisfied: packaging>=20.9 in /usr/local/lib/python3.11/dist-packages (from huggingface_hub) (24.2)\n",
            "Requirement already satisfied: tqdm>=4.42.1 in /usr/local/lib/python3.11/dist-packages (from huggingface_hub) (4.67.1)\n",
            "Requirement already satisfied: typing-extensions>=3.7.4.3 in /usr/local/lib/python3.11/dist-packages (from huggingface_hub) (4.14.0)\n",
            "Requirement already satisfied: hf-xet<2.0.0,>=1.1.2 in /usr/local/lib/python3.11/dist-packages (from huggingface_hub) (1.1.5)\n",
            "Requirement already satisfied: aiohappyeyeballs>=2.3.0 in /usr/local/lib/python3.11/dist-packages (from aiohttp<4.0.0,>=3.8.3->langchain-community) (2.6.1)\n",
            "Requirement already satisfied: aiosignal>=1.1.2 in /usr/local/lib/python3.11/dist-packages (from aiohttp<4.0.0,>=3.8.3->langchain-community) (1.3.2)\n",
            "Requirement already satisfied: attrs>=17.3.0 in /usr/local/lib/python3.11/dist-packages (from aiohttp<4.0.0,>=3.8.3->langchain-community) (25.3.0)\n",
            "Requirement already satisfied: frozenlist>=1.1.1 in /usr/local/lib/python3.11/dist-packages (from aiohttp<4.0.0,>=3.8.3->langchain-community) (1.7.0)\n",
            "Requirement already satisfied: multidict<7.0,>=4.5 in /usr/local/lib/python3.11/dist-packages (from aiohttp<4.0.0,>=3.8.3->langchain-community) (6.6.3)\n",
            "Requirement already satisfied: propcache>=0.2.0 in /usr/local/lib/python3.11/dist-packages (from aiohttp<4.0.0,>=3.8.3->langchain-community) (0.3.2)\n",
            "Requirement already satisfied: yarl<2.0,>=1.17.0 in /usr/local/lib/python3.11/dist-packages (from aiohttp<4.0.0,>=3.8.3->langchain-community) (1.20.1)\n",
            "Collecting marshmallow<4.0.0,>=3.18.0 (from dataclasses-json<0.7,>=0.5.7->langchain-community)\n",
            "  Downloading marshmallow-3.26.1-py3-none-any.whl.metadata (7.3 kB)\n",
            "Collecting typing-inspect<1,>=0.4.0 (from dataclasses-json<0.7,>=0.5.7->langchain-community)\n",
            "  Downloading typing_inspect-0.9.0-py3-none-any.whl.metadata (1.5 kB)\n",
            "Requirement already satisfied: langchain-text-splitters<1.0.0,>=0.3.8 in /usr/local/lib/python3.11/dist-packages (from langchain<1.0.0,>=0.3.26->langchain-community) (0.3.8)\n",
            "Requirement already satisfied: pydantic<3.0.0,>=2.7.4 in /usr/local/lib/python3.11/dist-packages (from langchain<1.0.0,>=0.3.26->langchain-community) (2.11.7)\n",
            "Requirement already satisfied: jsonpatch<2.0,>=1.33 in /usr/local/lib/python3.11/dist-packages (from langchain-core<1.0.0,>=0.3.66->langchain-community) (1.33)\n",
            "Requirement already satisfied: httpx<1,>=0.23.0 in /usr/local/lib/python3.11/dist-packages (from langsmith>=0.1.125->langchain-community) (0.28.1)\n",
            "Requirement already satisfied: orjson<4.0.0,>=3.9.14 in /usr/local/lib/python3.11/dist-packages (from langsmith>=0.1.125->langchain-community) (3.10.18)\n",
            "Requirement already satisfied: requests-toolbelt<2.0.0,>=1.0.0 in /usr/local/lib/python3.11/dist-packages (from langsmith>=0.1.125->langchain-community) (1.0.0)\n",
            "Requirement already satisfied: zstandard<0.24.0,>=0.23.0 in /usr/local/lib/python3.11/dist-packages (from langsmith>=0.1.125->langchain-community) (0.23.0)\n",
            "Collecting python-dotenv>=0.21.0 (from pydantic-settings<3.0.0,>=2.4.0->langchain-community)\n",
            "  Downloading python_dotenv-1.1.1-py3-none-any.whl.metadata (24 kB)\n",
            "Requirement already satisfied: typing-inspection>=0.4.0 in /usr/local/lib/python3.11/dist-packages (from pydantic-settings<3.0.0,>=2.4.0->langchain-community) (0.4.1)\n",
            "Requirement already satisfied: charset-normalizer<4,>=2 in /usr/local/lib/python3.11/dist-packages (from requests<3,>=2->langchain-community) (3.4.2)\n",
            "Requirement already satisfied: idna<4,>=2.5 in /usr/local/lib/python3.11/dist-packages (from requests<3,>=2->langchain-community) (3.10)\n",
            "Requirement already satisfied: urllib3<3,>=1.21.1 in /usr/local/lib/python3.11/dist-packages (from requests<3,>=2->langchain-community) (2.4.0)\n",
            "Requirement already satisfied: certifi>=2017.4.17 in /usr/local/lib/python3.11/dist-packages (from requests<3,>=2->langchain-community) (2025.6.15)\n",
            "Requirement already satisfied: greenlet>=1 in /usr/local/lib/python3.11/dist-packages (from SQLAlchemy<3,>=1.4->langchain-community) (3.2.3)\n",
            "Requirement already satisfied: anyio in /usr/local/lib/python3.11/dist-packages (from httpx<1,>=0.23.0->langsmith>=0.1.125->langchain-community) (4.9.0)\n",
            "Requirement already satisfied: httpcore==1.* in /usr/local/lib/python3.11/dist-packages (from httpx<1,>=0.23.0->langsmith>=0.1.125->langchain-community) (1.0.9)\n",
            "Requirement already satisfied: h11>=0.16 in /usr/local/lib/python3.11/dist-packages (from httpcore==1.*->httpx<1,>=0.23.0->langsmith>=0.1.125->langchain-community) (0.16.0)\n",
            "Requirement already satisfied: jsonpointer>=1.9 in /usr/local/lib/python3.11/dist-packages (from jsonpatch<2.0,>=1.33->langchain-core<1.0.0,>=0.3.66->langchain-community) (3.0.0)\n",
            "Requirement already satisfied: annotated-types>=0.6.0 in /usr/local/lib/python3.11/dist-packages (from pydantic<3.0.0,>=2.7.4->langchain<1.0.0,>=0.3.26->langchain-community) (0.7.0)\n",
            "Requirement already satisfied: pydantic-core==2.33.2 in /usr/local/lib/python3.11/dist-packages (from pydantic<3.0.0,>=2.7.4->langchain<1.0.0,>=0.3.26->langchain-community) (2.33.2)\n",
            "Collecting mypy-extensions>=0.3.0 (from typing-inspect<1,>=0.4.0->dataclasses-json<0.7,>=0.5.7->langchain-community)\n",
            "  Downloading mypy_extensions-1.1.0-py3-none-any.whl.metadata (1.1 kB)\n",
            "Requirement already satisfied: sniffio>=1.1 in /usr/local/lib/python3.11/dist-packages (from anyio->httpx<1,>=0.23.0->langsmith>=0.1.125->langchain-community) (1.3.1)\n",
            "Downloading langchain_community-0.3.27-py3-none-any.whl (2.5 MB)\n",
            "\u001b[2K   \u001b[90m━━━━━━━━━━━━━━━━━━━━━━━━━━━━━━━━━━━━━━━━\u001b[0m \u001b[32m2.5/2.5 MB\u001b[0m \u001b[31m86.0 MB/s\u001b[0m eta \u001b[36m0:00:00\u001b[0m\n",
            "\u001b[?25hDownloading dataclasses_json-0.6.7-py3-none-any.whl (28 kB)\n",
            "Downloading httpx_sse-0.4.1-py3-none-any.whl (8.1 kB)\n",
            "Downloading pydantic_settings-2.10.1-py3-none-any.whl (45 kB)\n",
            "\u001b[2K   \u001b[90m━━━━━━━━━━━━━━━━━━━━━━━━━━━━━━━━━━━━━━━━\u001b[0m \u001b[32m45.2/45.2 kB\u001b[0m \u001b[31m5.3 MB/s\u001b[0m eta \u001b[36m0:00:00\u001b[0m\n",
            "\u001b[?25hDownloading marshmallow-3.26.1-py3-none-any.whl (50 kB)\n",
            "\u001b[2K   \u001b[90m━━━━━━━━━━━━━━━━━━━━━━━━━━━━━━━━━━━━━━━━\u001b[0m \u001b[32m50.9/50.9 kB\u001b[0m \u001b[31m6.5 MB/s\u001b[0m eta \u001b[36m0:00:00\u001b[0m\n",
            "\u001b[?25hDownloading python_dotenv-1.1.1-py3-none-any.whl (20 kB)\n",
            "Downloading typing_inspect-0.9.0-py3-none-any.whl (8.8 kB)\n",
            "Downloading mypy_extensions-1.1.0-py3-none-any.whl (5.0 kB)\n",
            "Installing collected packages: python-dotenv, mypy-extensions, marshmallow, httpx-sse, typing-inspect, pydantic-settings, dataclasses-json, langchain-community\n",
            "Successfully installed dataclasses-json-0.6.7 httpx-sse-0.4.1 langchain-community-0.3.27 marshmallow-3.26.1 mypy-extensions-1.1.0 pydantic-settings-2.10.1 python-dotenv-1.1.1 typing-inspect-0.9.0\n"
          ]
        }
      ],
      "execution_count": 1
    },
    {
      "cell_type": "code",
      "source": [
        "import os\n",
        "os.environ[\"OPENROUTER_API_KEY\"] = \"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\"\n"
      ],
      "metadata": {
        "trusted": true,
        "execution": {
          "iopub.status.busy": "2025-07-08T14:45:10.463346Z",
          "iopub.execute_input": "2025-07-08T14:45:10.463704Z",
          "iopub.status.idle": "2025-07-08T14:45:10.468178Z",
          "shell.execute_reply.started": "2025-07-08T14:45:10.463675Z",
          "shell.execute_reply": "2025-07-08T14:45:10.467519Z"
        },
        "id": "gtl_FhBQiAHP"
      },
      "outputs": [],
      "execution_count": 2
    },
    {
      "cell_type": "code",
      "source": [
        "from langchain_openai import ChatOpenAI\n",
        "\n",
        "llm = ChatOpenAI(\n",
        "    model=\"deepseek/deepseek-r1-distill-llama-70b\",\n",
        "    base_url=\"https://openrouter.ai/api/v1\",\n",
        "    api_key=os.getenv(\"OPENROUTER_API_KEY\"),\n",
        ")\n",
        "\n",
        "response = llm.invoke(\"Explain the difference between AI and ML\")\n",
        "response.content"
      ],
      "metadata": {
        "trusted": true,
        "execution": {
          "iopub.status.busy": "2025-07-08T14:45:10.468977Z",
          "iopub.execute_input": "2025-07-08T14:45:10.469198Z",
          "iopub.status.idle": "2025-07-08T14:46:01.946145Z",
          "shell.execute_reply.started": "2025-07-08T14:45:10.469175Z",
          "shell.execute_reply": "2025-07-08T14:46:01.945397Z"
        },
        "id": "U8vHmN1ZiAHQ",
        "outputId": "f32c4a29-1cd7-494e-8008-9ff7a3193e1e",
        "colab": {
          "base_uri": "https://localhost:8080/",
          "height": 109
        }
      },
      "outputs": [
        {
          "output_type": "execute_result",
          "data": {
            "text/plain": [
              "\"Artificial Intelligence (AI) and Machine Learning (ML) are often discussed together but have distinct meanings. Here's a clear breakdown:\\n\\n1. **Artificial Intelligence (AI):**  \\n   AI is the broader field focused on creating machines capable of simulating human intelligence. This includes tasks like understanding language, problem-solving, decision-making, and learning. AI encompasses various approaches, such as rule-based systems, symbolic reasoning, and expert systems, which explicitly program machines to perform tasks.\\n\\n2. **Machine Learning (ML):**  \\n   ML is a subset of AI, specifically focused on developing algorithms that allow machines to learn from data without explicit programming. Instead of following predefined rules, ML systems identify patterns in data to make decisions or predictions, improving over time as they encounter more data.\\n\\nIn summary, AI is the overarching goal of creating intelligent systems, while ML is a powerful method within AI that leverages data and algorithms to achieve learning and improvement.\""
            ],
            "application/vnd.google.colaboratory.intrinsic+json": {
              "type": "string"
            }
          },
          "metadata": {},
          "execution_count": 3
        }
      ],
      "execution_count": 3
    },
    {
      "cell_type": "code",
      "source": [
        "from langchain.schema import HumanMessage , SystemMessage , AIMessage\n",
        "\n",
        "message = [\n",
        "    SystemMessage(content = \"You are a helpful assistant.\"),\n",
        "    HumanMessage(content = \"Hi AI, how are you today?\"),\n",
        "    AIMessage(content = \"I`m great thank you. How can i help you?\"),\n",
        "    HumanMessage(content = \"I would like to understand string theory.\")\n",
        "]"
      ],
      "metadata": {
        "trusted": true,
        "execution": {
          "iopub.status.busy": "2025-07-08T14:46:01.947798Z",
          "iopub.execute_input": "2025-07-08T14:46:01.947982Z",
          "iopub.status.idle": "2025-07-08T14:46:01.972498Z",
          "shell.execute_reply.started": "2025-07-08T14:46:01.947967Z",
          "shell.execute_reply": "2025-07-08T14:46:01.971784Z"
        },
        "id": "f9vjkNaniAHQ"
      },
      "outputs": [],
      "execution_count": 4
    },
    {
      "cell_type": "code",
      "source": [
        "res = llm.invoke(message)\n",
        "res.content"
      ],
      "metadata": {
        "trusted": true,
        "execution": {
          "iopub.status.busy": "2025-07-08T14:46:01.973148Z",
          "iopub.execute_input": "2025-07-08T14:46:01.973319Z",
          "iopub.status.idle": "2025-07-08T14:46:49.660007Z",
          "shell.execute_reply.started": "2025-07-08T14:46:01.973305Z",
          "shell.execute_reply": "2025-07-08T14:46:49.659382Z"
        },
        "id": "W8HFXPiaiAHQ",
        "outputId": "d50e8b8b-ede9-4550-d442-6c9bd0c834ce",
        "colab": {
          "base_uri": "https://localhost:8080/",
          "height": 109
        }
      },
      "outputs": [
        {
          "output_type": "execute_result",
          "data": {
            "text/plain": [
              "'String theory is a theoretical framework in physics that attempts to reconcile quantum mechanics and general relativity, two theories that are normally incompatible. It postulates that the fundamental building blocks of the universe are not point-like particles (as described in the Standard Model of particle physics) but tiny, vibrating strings.\\n\\n### Core Idea:\\nIn string theory, the fundamental \"particles\" (like electrons, quarks, and photons) are not indivisible points but instead tiny, vibrating strings (or membranes, in higher-dimensional theories). These vibrations correspond to different energy levels, and each energy level gives rise to a different particle. Essentially, the \"notes\" produced by the vibrating strings are the particles we observe in the universe.\\n\\n### Key Features of String Theory:\\n1. **Extra Dimensions**: String theory requires the universe to have more than the familiar three spatial dimensions and one time dimension. Most versions of string theory propose that there are six additional spatial dimensions, for a total of 10 dimensions (or 11 in some variations, like M-theory). These extra dimensions are \"compactified\" or curled up so tightly that they are not directly observable.\\n\\n2. **Types of Strings**: There are two types of strings:\\n   - **Open Strings**: These have two endpoints.\\n   - **Closed Strings**: These form loops, with no endpoints.\\n\\n3. **Dualities**: String theory incorporates \"dualities,\" which relate different string theories to each other. For example, T-duality relates a theory on a space with a certain compactification radius to another theory with a much smaller radius.\\n\\n4. **Supersymmetry**: Many versions of string theory rely on supersymmetry (SUSY), which posits that each particle has a \"superpartner\" with different spin properties. However, supersymmetry has not yet been experimentally confirmed.\\n\\n5. **Unification**: One of the most appealing aspects of string theory is its potential to unify all fundamental forces, including gravity, into a single theoretical framework.\\n\\n---\\n\\n### The Challenge of String Theory:\\nString theory is highly mathematical and complex, and as of now, it lacks experimental evidence to confirm its predictions. To test string theory, physicists would need particle accelerators capable of reaching energy levels near the Planck energy (around \\\\(10^{18}\\\\) GeV), which is far beyond current technological capabilities.\\n\\nAdditionally, string theory predicts that there are multiple possible ways the extra dimensions can be compactified, leading to what is known as the \"string theory landscape.\" This suggests that there are an astronomically large number of possible universes (on the order of \\\\(10^{500}\\\\) or more) with different physical laws, which raises philosophical and scientific challenges about the nature of the theory and its predictive power.\\n\\n---\\n\\n### Why String Theory Matters:\\nDespite the lack of experimental evidence, string theory has inspired significant advancements in mathematics and theoretical physics. It has also led to new ways of thinking about quantum gravity, black holes, and the early universe. Furthermore, string theory has connections to other areas of physics, such as gauge/gravity duality (or \"holography\"), which studies the relationship between a gravitational theory in a higher-dimensional space and a non-gravitational theory on its lower-dimensional boundary.\\n\\nIn summary, string theory is an ambitious attempt to provide a \"theory of everything,\" but it remains a work in progress. Whether it will ultimately prove to be the correct description of the universe—or whether a different approach will succeed—remains one of the greatest open questions in modern physics.'"
            ],
            "application/vnd.google.colaboratory.intrinsic+json": {
              "type": "string"
            }
          },
          "metadata": {},
          "execution_count": 5
        }
      ],
      "execution_count": 5
    },
    {
      "cell_type": "code",
      "source": [
        "# add letest AI response to messages\n",
        "message.append(res)\n",
        "\n",
        "#now create a new user prompt\n",
        "prompt = HumanMessage(\n",
        "    content = \"why do physicists believe it can produce a unified theory?\"\n",
        ")\n",
        "\n",
        "message.append(prompt)\n",
        "\n",
        "#send to DeepSeek\n",
        "res = llm.invoke(message)\n",
        "res.content"
      ],
      "metadata": {
        "trusted": true,
        "execution": {
          "iopub.status.busy": "2025-07-08T14:46:49.660712Z",
          "iopub.execute_input": "2025-07-08T14:46:49.660975Z",
          "iopub.status.idle": "2025-07-08T14:48:31.237692Z",
          "shell.execute_reply.started": "2025-07-08T14:46:49.660951Z",
          "shell.execute_reply": "2025-07-08T14:48:31.236857Z"
        },
        "id": "aMquW14LiAHR",
        "outputId": "0acd399b-27af-4ce1-bd9c-2df50642f0f3",
        "colab": {
          "base_uri": "https://localhost:8080/",
          "height": 109
        }
      },
      "outputs": [
        {
          "output_type": "execute_result",
          "data": {
            "text/plain": [
              "'Physicists believe string theory has the potential to produce a unified theory because it addresses several deep problems in physics and provides a framework for unifying the fundamental forces and particles. Here\\'s why it is considered a promising approach:\\n\\n---\\n\\n### 1. **Unification of Quantum Mechanics and General Relativity**\\n   - Quantum mechanics describes the behavior of particles at microscopic scales, while general relativity describes gravity and the behavior of the universe at macroscopic scales. However, these two theories are fundamentally incompatible within the framework of classical physics.\\n   - String theory attempts to reconcile this conflict by postulating that the fundamental building blocks of the universe are not point-like particles but vibrating strings. These vibrations naturally incorporate both quantum mechanics and general relativity, potentially resolving the long-standing problem of **quantum gravity**.\\n\\n---\\n\\n### 2. **Unification of All Fundamental Forces**\\n   - The Standard Model of particle physics successfully describes three of the four fundamental forces: electromagnetism, the weak nuclear force, and the strong nuclear force. However, it does not include gravity, which is described by general relativity.\\n   - String theory provides a potential framework for unifying all four forces (including gravity) into a single theoretical structure. The vibrations of the strings correspond not only to particles like electrons and quarks but also to the graviton, the hypothetical particle associated with gravity.\\n\\n---\\n\\n### 3. **Extra Dimensions and Unified Framework**\\n   - String theory requires the existence of extra spatial dimensions beyond the familiar three spatial dimensions and one time dimension. These additional dimensions are \"compactified\" (curled up or folded) in a way that they are not directly observable at large scales.\\n   - The compactification of these extra dimensions allows for a unified description of all particles and forces. Different ways of compactifying the extra dimensions can lead to different \"vacua\" (states of the universe), which may correspond to different physical laws in different universes within the \"multiverse.\"\\n\\n---\\n\\n### 4. **Dualities and Consistency**\\n   - String theory incorporates mathematical symmetries known as \"dualities,\" which relate different versions of the theory to each other. For example:\\n     - **T-duality**: Relates string theories on spaces with different compactification radii.\\n     - **S-duality**: Relates strongly coupled theories to weakly coupled theories.\\n   - These dualities suggest that string theory is a deeply consistent and unified framework, as it can describe the same physics in multiple ways.\\n\\n---\\n\\n### 5. **Supersymmetry and Particle Unification**\\n   - Many versions of string theory naturally incorporate **supersymmetry (SUSY)**, a symmetry that relates bosons (force-carrying particles) to fermions (matter particles). Supersymmetry provides a potential way to unify the descriptions of these particle types.\\n   - While supersymmetry has not yet been experimentally confirmed, its natural appearance in string theory is seen as an encouraging sign.\\n\\n---\\n\\n### 6. **Mathematical Beauty and Consistency**\\n   - String theory is highly mathematical and relies on elegant structures like Calabi-Yau manifolds (used to describe the compactified extra dimensions). The mathematical consistency of the theory is appealing to many physicists, as it suggests a deeper layer of simplicity and unity in the universe.\\n   - The theory also resolves certain paradoxes and infinities that arise in quantum field theory, such as the black hole information paradox, by providing a more complete framework for understanding these phenomena.\\n\\n---\\n\\n### 7. **Potential to Explain Open Questions in Physics**\\n   - String theory provides potential explanations for several unresolved puzzles in physics:\\n     - **The nature of black holes**: String theory has been used to calculate black hole entropy, which matches theoretical predictions in certain cases.\\n     - **The hierarchy problem**: The theory may explain why gravity is so much weaker than the other forces.\\n     - **The cosmological constant**: String theory could provide insights into the observed value of the cosmological constant, which is related to dark energy.\\n\\n---\\n\\n### Why Physicists Are Optimistic\\nWhile string theory is still a speculative framework and lacks direct experimental evidence, its ability to address these fundamental challenges in physics is why many physicists believe it could lead to a \"theory of everything\" (ToE). Even if string theory ultimately proves not to be the correct path, the exploration of its ideas has already led to important advances in mathematics and theoretical physics.\\n\\nThat said, the lack of experimental evidence and the complexity of the \"string theory landscape\" (the vast number of possible universes predicted by the theory) remain significant challenges. Physicists continue to explore string theory, M-theory (an 11-dimensional extension of string theory), and related approaches like **holography** (the idea that a higher-dimensional gravitational theory is equivalent to a lower-dimensional non-gravitational theory) in the hopes of finding a more complete and predictive unified theory.'"
            ],
            "application/vnd.google.colaboratory.intrinsic+json": {
              "type": "string"
            }
          },
          "metadata": {},
          "execution_count": 6
        }
      ],
      "execution_count": 6
    },
    {
      "cell_type": "markdown",
      "source": [
        "# New Prompt Templates"
      ],
      "metadata": {
        "id": "5G-BvhhaiAHR"
      }
    },
    {
      "cell_type": "code",
      "source": [
        "messages = [\n",
        "    SystemMessage(\n",
        "        content = (\n",
        "            \"you are a helpful assistant. You keep responses to no more than \"\n",
        "            \"100 characters long (including whitespaces), and sign off every \"\n",
        "            \"message with a random name like 'Robot McRobot' or 'Bot Rob'.\"\n",
        "        )\n",
        "    ),\n",
        "    HumanMessage(content= \"Hi AI, how are you? what is quantum physics?\")\n",
        "]"
      ],
      "metadata": {
        "trusted": true,
        "execution": {
          "iopub.status.busy": "2025-07-08T14:48:31.238531Z",
          "iopub.execute_input": "2025-07-08T14:48:31.2388Z",
          "iopub.status.idle": "2025-07-08T14:48:31.242608Z",
          "shell.execute_reply.started": "2025-07-08T14:48:31.238771Z",
          "shell.execute_reply": "2025-07-08T14:48:31.241927Z"
        },
        "id": "BBbhMNUoiAHS"
      },
      "outputs": [],
      "execution_count": 7
    },
    {
      "cell_type": "markdown",
      "source": [
        "#### Now make our first completion"
      ],
      "metadata": {
        "id": "WGmtpq-ViAHS"
      }
    },
    {
      "cell_type": "code",
      "source": [
        "res = llm.invoke(messages)\n",
        "print(f\"Length: {len(res.content)}\\n{res.content}\")"
      ],
      "metadata": {
        "trusted": true,
        "execution": {
          "iopub.status.busy": "2025-07-08T14:48:31.243304Z",
          "iopub.execute_input": "2025-07-08T14:48:31.2436Z",
          "iopub.status.idle": "2025-07-08T14:48:47.762919Z",
          "shell.execute_reply.started": "2025-07-08T14:48:31.243577Z",
          "shell.execute_reply": "2025-07-08T14:48:47.762315Z"
        },
        "id": "c8gbUA0FiAHS",
        "outputId": "a2f85e7c-da5b-4884-bd39-e0bdf780ca1f",
        "colab": {
          "base_uri": "https://localhost:8080/"
        }
      },
      "outputs": [
        {
          "output_type": "stream",
          "name": "stdout",
          "text": [
            "Length: 123\n",
            "I'm here to help! Quantum physics studies matter and energy at tiny scales, exploring particles and waves.  \n",
            "Quantum Quincy\n"
          ]
        }
      ],
      "execution_count": 8
    },
    {
      "cell_type": "markdown",
      "source": [
        "Now we gonna add these instructions to the HumanMessage via HumanMessagePromptTemplate"
      ],
      "metadata": {
        "id": "hSd6B-Z2iAHT"
      }
    },
    {
      "cell_type": "code",
      "source": [
        "from langchain_core.prompts import HumanMessagePromptTemplate , ChatPromptTemplate\n",
        "\n",
        "human_template = HumanMessagePromptTemplate.from_template(\n",
        "    '{input} Can you keep the response to no more than 100 characters '+\n",
        "    '(including whitespaces), and sign off with a random name like \"Robot '+\n",
        "    'McRobot\" or \"Bot Rob\".'\n",
        ")\n",
        "\n",
        "#create the human message\n",
        "chat_prompt = ChatPromptTemplate.from_messages([human_template])\n",
        "#format with some input\n",
        "chat_prompt_value = chat_prompt.format_prompt(\n",
        "    input = \"Hi AI, how are you? what is quantum physics?\"\n",
        ")\n",
        "\n",
        "chat_prompt_value"
      ],
      "metadata": {
        "trusted": true,
        "execution": {
          "iopub.status.busy": "2025-07-08T14:48:55.546022Z",
          "iopub.execute_input": "2025-07-08T14:48:55.546638Z",
          "iopub.status.idle": "2025-07-08T14:48:55.576966Z",
          "shell.execute_reply.started": "2025-07-08T14:48:55.546613Z",
          "shell.execute_reply": "2025-07-08T14:48:55.576505Z"
        },
        "id": "6SmhScgJiAHT",
        "outputId": "3c1607a7-326f-40ea-82bf-dc2096b4bc7a",
        "colab": {
          "base_uri": "https://localhost:8080/"
        }
      },
      "outputs": [
        {
          "output_type": "execute_result",
          "data": {
            "text/plain": [
              "ChatPromptValue(messages=[HumanMessage(content='Hi AI, how are you? what is quantum physics? Can you keep the response to no more than 100 characters (including whitespaces), and sign off with a random name like \"Robot McRobot\" or \"Bot Rob\".', additional_kwargs={}, response_metadata={})])"
            ]
          },
          "metadata": {},
          "execution_count": 9
        }
      ],
      "execution_count": 9
    },
    {
      "cell_type": "code",
      "source": [
        "chat_prompt_value.to_messages()"
      ],
      "metadata": {
        "trusted": true,
        "execution": {
          "iopub.status.busy": "2025-07-08T14:48:57.929763Z",
          "iopub.execute_input": "2025-07-08T14:48:57.930352Z",
          "iopub.status.idle": "2025-07-08T14:48:57.934685Z",
          "shell.execute_reply.started": "2025-07-08T14:48:57.930331Z",
          "shell.execute_reply": "2025-07-08T14:48:57.93411Z"
        },
        "id": "fOBFlzzWiAHT",
        "outputId": "3af5dd61-0c14-4e97-8db6-dd87f9b9f992",
        "colab": {
          "base_uri": "https://localhost:8080/"
        }
      },
      "outputs": [
        {
          "output_type": "execute_result",
          "data": {
            "text/plain": [
              "[HumanMessage(content='Hi AI, how are you? what is quantum physics? Can you keep the response to no more than 100 characters (including whitespaces), and sign off with a random name like \"Robot McRobot\" or \"Bot Rob\".', additional_kwargs={}, response_metadata={})]"
            ]
          },
          "metadata": {},
          "execution_count": 10
        }
      ],
      "execution_count": 10
    },
    {
      "cell_type": "code",
      "source": [
        "chat_prompt_value.to_string()"
      ],
      "metadata": {
        "trusted": true,
        "execution": {
          "iopub.status.busy": "2025-07-08T14:49:08.475312Z",
          "iopub.execute_input": "2025-07-08T14:49:08.475848Z",
          "iopub.status.idle": "2025-07-08T14:49:08.480193Z",
          "shell.execute_reply.started": "2025-07-08T14:49:08.475824Z",
          "shell.execute_reply": "2025-07-08T14:49:08.479523Z"
        },
        "id": "7OgoCwIJiAHT",
        "outputId": "65748ddc-a354-459c-a1c4-24a50d5b11ca",
        "colab": {
          "base_uri": "https://localhost:8080/",
          "height": 36
        }
      },
      "outputs": [
        {
          "output_type": "execute_result",
          "data": {
            "text/plain": [
              "'Human: Hi AI, how are you? what is quantum physics? Can you keep the response to no more than 100 characters (including whitespaces), and sign off with a random name like \"Robot McRobot\" or \"Bot Rob\".'"
            ],
            "application/vnd.google.colaboratory.intrinsic+json": {
              "type": "string"
            }
          },
          "metadata": {},
          "execution_count": 11
        }
      ],
      "execution_count": 11
    },
    {
      "cell_type": "markdown",
      "source": [
        "let`s see if this new approach works."
      ],
      "metadata": {
        "id": "z58VHA7LiAHT"
      }
    },
    {
      "cell_type": "code",
      "source": [
        "messages = [\n",
        "    SystemMessage(content=(\n",
        "        \"you are a helpful assistant. You keep responses to no more than \"\n",
        "        \"100 characters long (including whitespaces), and sign off every \"\n",
        "        \"message with a random name like 'Robot McRobot' or 'Bot Rob'.\"\n",
        "    )),\n",
        "    chat_prompt.format_prompt(\n",
        "        input = \"Hi AI, how are you? what is quantum physics?\"\n",
        "    ).to_messages()[0]\n",
        "]\n",
        "\n",
        "res = llm.invoke(messages)\n",
        "print(f\"Length: {len(res.content)}\\n{res.content}\")"
      ],
      "metadata": {
        "trusted": true,
        "execution": {
          "iopub.status.busy": "2025-07-08T14:49:36.068543Z",
          "iopub.execute_input": "2025-07-08T14:49:36.068817Z",
          "iopub.status.idle": "2025-07-08T14:49:40.942016Z",
          "shell.execute_reply.started": "2025-07-08T14:49:36.068798Z",
          "shell.execute_reply": "2025-07-08T14:49:40.941351Z"
        },
        "id": "ls28zthLiAHT",
        "outputId": "c47b445e-c7d1-412b-ffad-2afdc3af619e",
        "colab": {
          "base_uri": "https://localhost:8080/"
        }
      },
      "outputs": [
        {
          "output_type": "stream",
          "name": "stdout",
          "text": [
            "Length: 166\n",
            "Quantum physics studies tiny particles, exploring phenomena like wave-particle duality, superposition, and entanglement, which differ from classical physics. -Bot Rob\n"
          ]
        }
      ],
      "execution_count": 12
    },
    {
      "cell_type": "code",
      "source": [
        "from langchain_core.prompts import SystemMessagePromptTemplate, AIMessagePromptTemplate\n",
        "\n",
        "system_template = SystemMessagePromptTemplate.from_template(\n",
        "    \"you are a helpful assistant. You keep responses to no more than \"\n",
        "    \"{character_limit} characters long (including whitespaces), and sign \"\n",
        "    \"off every message with '- {sign_off}\"\n",
        ")\n",
        "\n",
        "human_template = HumanMessagePromptTemplate.from_template(\"{input}\")\n",
        "ai_template = AIMessagePromptTemplate.from_template(\"{response} - {sign_off}\")\n",
        "\n",
        "#create the set of messages\n",
        "chat_prompt = ChatPromptTemplate.from_messages([\n",
        "    system_template,\n",
        "    human_template,\n",
        "    ai_template\n",
        "])\n",
        "\n",
        "#format with required input\n",
        "chat_prompt_value = chat_prompt.format_prompt(\n",
        "    character_limit = \"50\", sign_off = \"Robot McRobot\",\n",
        "    input = \"Hi AI, how are you? what is quantum physics?\",\n",
        "    response = \"Good! It`s physics of small things\"\n",
        ")\n",
        "\n",
        "chat_prompt_value"
      ],
      "metadata": {
        "trusted": true,
        "execution": {
          "iopub.status.busy": "2025-07-08T14:50:54.546357Z",
          "iopub.execute_input": "2025-07-08T14:50:54.546941Z",
          "iopub.status.idle": "2025-07-08T14:50:54.553834Z",
          "shell.execute_reply.started": "2025-07-08T14:50:54.546918Z",
          "shell.execute_reply": "2025-07-08T14:50:54.55311Z"
        },
        "id": "AwVkWkyJiAHT",
        "outputId": "839969f1-2e8d-4ca8-df35-6dd944b02ade",
        "colab": {
          "base_uri": "https://localhost:8080/"
        }
      },
      "outputs": [
        {
          "output_type": "execute_result",
          "data": {
            "text/plain": [
              "ChatPromptValue(messages=[SystemMessage(content=\"you are a helpful assistant. You keep responses to no more than 50 characters long (including whitespaces), and sign off every message with '- Robot McRobot\", additional_kwargs={}, response_metadata={}), HumanMessage(content='Hi AI, how are you? what is quantum physics?', additional_kwargs={}, response_metadata={}), AIMessage(content='Good! It`s physics of small things - Robot McRobot', additional_kwargs={}, response_metadata={})])"
            ]
          },
          "metadata": {},
          "execution_count": 13
        }
      ],
      "execution_count": 13
    },
    {
      "cell_type": "code",
      "source": [
        "messages = chat_prompt_value.to_messages()\n",
        "messages.append(\n",
        "    HumanMessage(content = \"How small?\")\n",
        ")\n",
        "\n",
        "res = llm.invoke(messages)\n",
        "print(f\"Length: {len(res.content)}\\n{res.content}\")"
      ],
      "metadata": {
        "trusted": true,
        "execution": {
          "iopub.status.busy": "2025-07-08T14:50:56.404739Z",
          "iopub.execute_input": "2025-07-08T14:50:56.405Z",
          "iopub.status.idle": "2025-07-08T14:51:09.540902Z",
          "shell.execute_reply.started": "2025-07-08T14:50:56.404979Z",
          "shell.execute_reply": "2025-07-08T14:51:09.540209Z"
        },
        "id": "PUKl-QoyiAHU",
        "outputId": "04be3db5-e385-4d8e-c5fc-aff356b4ba17",
        "colab": {
          "base_uri": "https://localhost:8080/"
        }
      },
      "outputs": [
        {
          "output_type": "stream",
          "name": "stdout",
          "text": [
            "Length: 58\n",
            "Atoms and particles, nanometers or smaller - Robot McRobot\n"
          ]
        }
      ],
      "execution_count": 14
    },
    {
      "cell_type": "code",
      "source": [
        "messages.append(res)\n",
        "#Make new query\n",
        "messages.append(\n",
        "    HumanMessage(content = \"Okay cool, so it`s like 'partical physics'?\")\n",
        ")\n",
        "\n",
        "res = llm.invoke(messages)\n",
        "print(f\"Length: {len(res.content)}\\n{res.content}\")"
      ],
      "metadata": {
        "trusted": true,
        "id": "WSluApoziAHU",
        "outputId": "7c2c3af5-7c4b-4464-902a-c8037c3fc595",
        "colab": {
          "base_uri": "https://localhost:8080/"
        }
      },
      "outputs": [
        {
          "output_type": "stream",
          "name": "stdout",
          "text": [
            "Length: 55\n",
            "Sort of! But quantum is more general. 👋 - Robot McRobot\n"
          ]
        }
      ],
      "execution_count": 15
    },
    {
      "cell_type": "markdown",
      "source": [
        "We could begain using the previous HumanMessagePromptTemplate again like so:"
      ],
      "metadata": {
        "id": "8CHZSNBNiAHU"
      }
    },
    {
      "cell_type": "code",
      "source": [
        "#this is a faster way of building the prompt via a PromptTemplate\n",
        "human_template = HumanMessagePromptTemplate.from_template(\n",
        "    '{input} answer in less than {character_limit} (including whitespaces).'\n",
        ")\n",
        "\n",
        "#create the human message\n",
        "human_prompt = ChatPromptTemplate.from_messages([human_template])\n",
        "#fromat with some input\n",
        "human_prompt_value = human_prompt.format_prompt(\n",
        "    input = \"Okay cool, so it`s like 'partical physics'?\",\n",
        "    character_limit = \"50\"\n",
        ")\n",
        "human_prompt_value"
      ],
      "metadata": {
        "trusted": true,
        "id": "BO1JZ6p_iAHU",
        "outputId": "81accb3a-7d85-4bf4-f097-e29bc7dc0608",
        "colab": {
          "base_uri": "https://localhost:8080/"
        }
      },
      "outputs": [
        {
          "output_type": "execute_result",
          "data": {
            "text/plain": [
              "ChatPromptValue(messages=[HumanMessage(content=\"Okay cool, so it`s like 'partical physics'? answer in less than 50 (including whitespaces).\", additional_kwargs={}, response_metadata={})])"
            ]
          },
          "metadata": {},
          "execution_count": 16
        }
      ],
      "execution_count": 16
    },
    {
      "cell_type": "code",
      "source": [
        "#drop the last message about parctical physics so we can re-write\n",
        "messages.pop(-1)"
      ],
      "metadata": {
        "trusted": true,
        "id": "CZ_a7EnriAHU",
        "outputId": "0253012c-ed31-4608-b12e-2ab951724cf4",
        "colab": {
          "base_uri": "https://localhost:8080/"
        }
      },
      "outputs": [
        {
          "output_type": "execute_result",
          "data": {
            "text/plain": [
              "HumanMessage(content=\"Okay cool, so it`s like 'partical physics'?\", additional_kwargs={}, response_metadata={})"
            ]
          },
          "metadata": {},
          "execution_count": 17
        }
      ],
      "execution_count": 17
    },
    {
      "cell_type": "code",
      "source": [
        "messages.extend(human_prompt_value.to_messages())\n",
        "messages"
      ],
      "metadata": {
        "trusted": true,
        "id": "omyOhEiKiAHU",
        "outputId": "6af03ca3-197b-4760-b90c-60a81b8f1bf5",
        "colab": {
          "base_uri": "https://localhost:8080/"
        }
      },
      "outputs": [
        {
          "output_type": "execute_result",
          "data": {
            "text/plain": [
              "[SystemMessage(content=\"you are a helpful assistant. You keep responses to no more than 50 characters long (including whitespaces), and sign off every message with '- Robot McRobot\", additional_kwargs={}, response_metadata={}),\n",
              " HumanMessage(content='Hi AI, how are you? what is quantum physics?', additional_kwargs={}, response_metadata={}),\n",
              " AIMessage(content='Good! It`s physics of small things - Robot McRobot', additional_kwargs={}, response_metadata={}),\n",
              " HumanMessage(content='How small?', additional_kwargs={}, response_metadata={}),\n",
              " AIMessage(content='Atoms and particles, nanometers or smaller - Robot McRobot', additional_kwargs={'refusal': None}, response_metadata={'token_usage': {'completion_tokens': 190, 'prompt_tokens': 67, 'total_tokens': 257, 'completion_tokens_details': None, 'prompt_tokens_details': None}, 'model_name': 'deepseek/deepseek-r1-distill-llama-70b', 'system_fingerprint': None, 'id': 'gen-1751986709-QdW4j8UzpueQ8sIxn8fm', 'service_tier': None, 'finish_reason': 'stop', 'logprobs': None}, id='run--1cfa1a49-91f5-4f9c-98b8-6a31e02bc1c1-0', usage_metadata={'input_tokens': 67, 'output_tokens': 190, 'total_tokens': 257, 'input_token_details': {}, 'output_token_details': {}}),\n",
              " HumanMessage(content=\"Okay cool, so it`s like 'partical physics'? answer in less than 50 (including whitespaces).\", additional_kwargs={}, response_metadata={})]"
            ]
          },
          "metadata": {},
          "execution_count": 18
        }
      ],
      "execution_count": 18
    },
    {
      "cell_type": "code",
      "source": [
        "res = llm.invoke(messages)\n",
        "print(f\"Length: {len(res.content)}\\n{res.content}\")"
      ],
      "metadata": {
        "trusted": true,
        "id": "KElJP3RPiAHU",
        "outputId": "a163aa41-032a-4e02-90cc-43ccfa1baa37",
        "colab": {
          "base_uri": "https://localhost:8080/"
        }
      },
      "outputs": [
        {
          "output_type": "stream",
          "name": "stdout",
          "text": [
            "Length: 64\n",
            "It’s the principles governing particles and more – Robot McRobot\n"
          ]
        }
      ],
      "execution_count": 19
    }
  ]
}