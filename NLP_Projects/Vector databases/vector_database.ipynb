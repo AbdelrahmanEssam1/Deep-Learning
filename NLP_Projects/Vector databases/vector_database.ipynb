{
  "metadata": {
    "kernelspec": {
      "name": "python3",
      "display_name": "Python 3"
    },
    "language_info": {
      "name": "python",
      "version": "3.11.13",
      "mimetype": "text/x-python",
      "codemirror_mode": {
        "name": "ipython",
        "version": 3
      },
      "pygments_lexer": "ipython3",
      "nbconvert_exporter": "python",
      "file_extension": ".py"
    },
    "colab": {
      "provenance": [],
      "gpuType": "T4"
    },
    "accelerator": "GPU",
    "widgets": {
      "application/vnd.jupyter.widget-state+json": {
        "7432bc47a7984ecc97c80972f208a609": {
          "model_module": "@jupyter-widgets/controls",
          "model_name": "HBoxModel",
          "model_module_version": "1.5.0",
          "state": {
            "_dom_classes": [],
            "_model_module": "@jupyter-widgets/controls",
            "_model_module_version": "1.5.0",
            "_model_name": "HBoxModel",
            "_view_count": null,
            "_view_module": "@jupyter-widgets/controls",
            "_view_module_version": "1.5.0",
            "_view_name": "HBoxView",
            "box_style": "",
            "children": [
              "IPY_MODEL_60013bec556244d491d5c54f8f0f5931",
              "IPY_MODEL_fb1d40506f89489795edc97e2b0112f0",
              "IPY_MODEL_ddff42e3c6e64bd0919ca73a552b17bb"
            ],
            "layout": "IPY_MODEL_aac47de6127a429a9425709fe5b2230c"
          }
        },
        "60013bec556244d491d5c54f8f0f5931": {
          "model_module": "@jupyter-widgets/controls",
          "model_name": "HTMLModel",
          "model_module_version": "1.5.0",
          "state": {
            "_dom_classes": [],
            "_model_module": "@jupyter-widgets/controls",
            "_model_module_version": "1.5.0",
            "_model_name": "HTMLModel",
            "_view_count": null,
            "_view_module": "@jupyter-widgets/controls",
            "_view_module_version": "1.5.0",
            "_view_name": "HTMLView",
            "description": "",
            "description_tooltip": null,
            "layout": "IPY_MODEL_30a14d56a632437fa1eb4890c2066c6c",
            "placeholder": "​",
            "style": "IPY_MODEL_069afd2206af477bbc1f953b4bec9b7f",
            "value": "Batches: 100%"
          }
        },
        "fb1d40506f89489795edc97e2b0112f0": {
          "model_module": "@jupyter-widgets/controls",
          "model_name": "FloatProgressModel",
          "model_module_version": "1.5.0",
          "state": {
            "_dom_classes": [],
            "_model_module": "@jupyter-widgets/controls",
            "_model_module_version": "1.5.0",
            "_model_name": "FloatProgressModel",
            "_view_count": null,
            "_view_module": "@jupyter-widgets/controls",
            "_view_module_version": "1.5.0",
            "_view_name": "ProgressView",
            "bar_style": "success",
            "description": "",
            "description_tooltip": null,
            "layout": "IPY_MODEL_4415a48de04041968b99860d152b3137",
            "max": 1064,
            "min": 0,
            "orientation": "horizontal",
            "style": "IPY_MODEL_d833531128424ba58802b253d10c28a9",
            "value": 1064
          }
        },
        "ddff42e3c6e64bd0919ca73a552b17bb": {
          "model_module": "@jupyter-widgets/controls",
          "model_name": "HTMLModel",
          "model_module_version": "1.5.0",
          "state": {
            "_dom_classes": [],
            "_model_module": "@jupyter-widgets/controls",
            "_model_module_version": "1.5.0",
            "_model_name": "HTMLModel",
            "_view_count": null,
            "_view_module": "@jupyter-widgets/controls",
            "_view_module_version": "1.5.0",
            "_view_name": "HTMLView",
            "description": "",
            "description_tooltip": null,
            "layout": "IPY_MODEL_c3f0151e732b48b1b73c51028b10a34d",
            "placeholder": "​",
            "style": "IPY_MODEL_86aa489be616478aa530a40907562615",
            "value": " 1064/1064 [02:17&lt;00:00, 19.48it/s]"
          }
        },
        "aac47de6127a429a9425709fe5b2230c": {
          "model_module": "@jupyter-widgets/base",
          "model_name": "LayoutModel",
          "model_module_version": "1.2.0",
          "state": {
            "_model_module": "@jupyter-widgets/base",
            "_model_module_version": "1.2.0",
            "_model_name": "LayoutModel",
            "_view_count": null,
            "_view_module": "@jupyter-widgets/base",
            "_view_module_version": "1.2.0",
            "_view_name": "LayoutView",
            "align_content": null,
            "align_items": null,
            "align_self": null,
            "border": null,
            "bottom": null,
            "display": null,
            "flex": null,
            "flex_flow": null,
            "grid_area": null,
            "grid_auto_columns": null,
            "grid_auto_flow": null,
            "grid_auto_rows": null,
            "grid_column": null,
            "grid_gap": null,
            "grid_row": null,
            "grid_template_areas": null,
            "grid_template_columns": null,
            "grid_template_rows": null,
            "height": null,
            "justify_content": null,
            "justify_items": null,
            "left": null,
            "margin": null,
            "max_height": null,
            "max_width": null,
            "min_height": null,
            "min_width": null,
            "object_fit": null,
            "object_position": null,
            "order": null,
            "overflow": null,
            "overflow_x": null,
            "overflow_y": null,
            "padding": null,
            "right": null,
            "top": null,
            "visibility": null,
            "width": null
          }
        },
        "30a14d56a632437fa1eb4890c2066c6c": {
          "model_module": "@jupyter-widgets/base",
          "model_name": "LayoutModel",
          "model_module_version": "1.2.0",
          "state": {
            "_model_module": "@jupyter-widgets/base",
            "_model_module_version": "1.2.0",
            "_model_name": "LayoutModel",
            "_view_count": null,
            "_view_module": "@jupyter-widgets/base",
            "_view_module_version": "1.2.0",
            "_view_name": "LayoutView",
            "align_content": null,
            "align_items": null,
            "align_self": null,
            "border": null,
            "bottom": null,
            "display": null,
            "flex": null,
            "flex_flow": null,
            "grid_area": null,
            "grid_auto_columns": null,
            "grid_auto_flow": null,
            "grid_auto_rows": null,
            "grid_column": null,
            "grid_gap": null,
            "grid_row": null,
            "grid_template_areas": null,
            "grid_template_columns": null,
            "grid_template_rows": null,
            "height": null,
            "justify_content": null,
            "justify_items": null,
            "left": null,
            "margin": null,
            "max_height": null,
            "max_width": null,
            "min_height": null,
            "min_width": null,
            "object_fit": null,
            "object_position": null,
            "order": null,
            "overflow": null,
            "overflow_x": null,
            "overflow_y": null,
            "padding": null,
            "right": null,
            "top": null,
            "visibility": null,
            "width": null
          }
        },
        "069afd2206af477bbc1f953b4bec9b7f": {
          "model_module": "@jupyter-widgets/controls",
          "model_name": "DescriptionStyleModel",
          "model_module_version": "1.5.0",
          "state": {
            "_model_module": "@jupyter-widgets/controls",
            "_model_module_version": "1.5.0",
            "_model_name": "DescriptionStyleModel",
            "_view_count": null,
            "_view_module": "@jupyter-widgets/base",
            "_view_module_version": "1.2.0",
            "_view_name": "StyleView",
            "description_width": ""
          }
        },
        "4415a48de04041968b99860d152b3137": {
          "model_module": "@jupyter-widgets/base",
          "model_name": "LayoutModel",
          "model_module_version": "1.2.0",
          "state": {
            "_model_module": "@jupyter-widgets/base",
            "_model_module_version": "1.2.0",
            "_model_name": "LayoutModel",
            "_view_count": null,
            "_view_module": "@jupyter-widgets/base",
            "_view_module_version": "1.2.0",
            "_view_name": "LayoutView",
            "align_content": null,
            "align_items": null,
            "align_self": null,
            "border": null,
            "bottom": null,
            "display": null,
            "flex": null,
            "flex_flow": null,
            "grid_area": null,
            "grid_auto_columns": null,
            "grid_auto_flow": null,
            "grid_auto_rows": null,
            "grid_column": null,
            "grid_gap": null,
            "grid_row": null,
            "grid_template_areas": null,
            "grid_template_columns": null,
            "grid_template_rows": null,
            "height": null,
            "justify_content": null,
            "justify_items": null,
            "left": null,
            "margin": null,
            "max_height": null,
            "max_width": null,
            "min_height": null,
            "min_width": null,
            "object_fit": null,
            "object_position": null,
            "order": null,
            "overflow": null,
            "overflow_x": null,
            "overflow_y": null,
            "padding": null,
            "right": null,
            "top": null,
            "visibility": null,
            "width": null
          }
        },
        "d833531128424ba58802b253d10c28a9": {
          "model_module": "@jupyter-widgets/controls",
          "model_name": "ProgressStyleModel",
          "model_module_version": "1.5.0",
          "state": {
            "_model_module": "@jupyter-widgets/controls",
            "_model_module_version": "1.5.0",
            "_model_name": "ProgressStyleModel",
            "_view_count": null,
            "_view_module": "@jupyter-widgets/base",
            "_view_module_version": "1.2.0",
            "_view_name": "StyleView",
            "bar_color": null,
            "description_width": ""
          }
        },
        "c3f0151e732b48b1b73c51028b10a34d": {
          "model_module": "@jupyter-widgets/base",
          "model_name": "LayoutModel",
          "model_module_version": "1.2.0",
          "state": {
            "_model_module": "@jupyter-widgets/base",
            "_model_module_version": "1.2.0",
            "_model_name": "LayoutModel",
            "_view_count": null,
            "_view_module": "@jupyter-widgets/base",
            "_view_module_version": "1.2.0",
            "_view_name": "LayoutView",
            "align_content": null,
            "align_items": null,
            "align_self": null,
            "border": null,
            "bottom": null,
            "display": null,
            "flex": null,
            "flex_flow": null,
            "grid_area": null,
            "grid_auto_columns": null,
            "grid_auto_flow": null,
            "grid_auto_rows": null,
            "grid_column": null,
            "grid_gap": null,
            "grid_row": null,
            "grid_template_areas": null,
            "grid_template_columns": null,
            "grid_template_rows": null,
            "height": null,
            "justify_content": null,
            "justify_items": null,
            "left": null,
            "margin": null,
            "max_height": null,
            "max_width": null,
            "min_height": null,
            "min_width": null,
            "object_fit": null,
            "object_position": null,
            "order": null,
            "overflow": null,
            "overflow_x": null,
            "overflow_y": null,
            "padding": null,
            "right": null,
            "top": null,
            "visibility": null,
            "width": null
          }
        },
        "86aa489be616478aa530a40907562615": {
          "model_module": "@jupyter-widgets/controls",
          "model_name": "DescriptionStyleModel",
          "model_module_version": "1.5.0",
          "state": {
            "_model_module": "@jupyter-widgets/controls",
            "_model_module_version": "1.5.0",
            "_model_name": "DescriptionStyleModel",
            "_view_count": null,
            "_view_module": "@jupyter-widgets/base",
            "_view_module_version": "1.2.0",
            "_view_name": "StyleView",
            "description_width": ""
          }
        },
        "fdec185da98349b4968e3a1ace769d4e": {
          "model_module": "@jupyter-widgets/controls",
          "model_name": "HBoxModel",
          "model_module_version": "1.5.0",
          "state": {
            "_dom_classes": [],
            "_model_module": "@jupyter-widgets/controls",
            "_model_module_version": "1.5.0",
            "_model_name": "HBoxModel",
            "_view_count": null,
            "_view_module": "@jupyter-widgets/controls",
            "_view_module_version": "1.5.0",
            "_view_name": "HBoxView",
            "box_style": "",
            "children": [
              "IPY_MODEL_a7d91ba55f3442678a719d691a44401c",
              "IPY_MODEL_5bb9206f1a3d45f8a22584218f12a0dd",
              "IPY_MODEL_0c9d8b8f66c244a5ae5de653103ec0cb"
            ],
            "layout": "IPY_MODEL_ac9c893bcf7d4c47972809078280b252"
          }
        },
        "a7d91ba55f3442678a719d691a44401c": {
          "model_module": "@jupyter-widgets/controls",
          "model_name": "HTMLModel",
          "model_module_version": "1.5.0",
          "state": {
            "_dom_classes": [],
            "_model_module": "@jupyter-widgets/controls",
            "_model_module_version": "1.5.0",
            "_model_name": "HTMLModel",
            "_view_count": null,
            "_view_module": "@jupyter-widgets/controls",
            "_view_module_version": "1.5.0",
            "_view_name": "HTMLView",
            "description": "",
            "description_tooltip": null,
            "layout": "IPY_MODEL_1caa51d9c5244422ae6355151417bcd2",
            "placeholder": "​",
            "style": "IPY_MODEL_8f6cc3142a9b4ae8b75e83e501da49a2",
            "value": "Batches: 100%"
          }
        },
        "5bb9206f1a3d45f8a22584218f12a0dd": {
          "model_module": "@jupyter-widgets/controls",
          "model_name": "FloatProgressModel",
          "model_module_version": "1.5.0",
          "state": {
            "_dom_classes": [],
            "_model_module": "@jupyter-widgets/controls",
            "_model_module_version": "1.5.0",
            "_model_name": "FloatProgressModel",
            "_view_count": null,
            "_view_module": "@jupyter-widgets/controls",
            "_view_module_version": "1.5.0",
            "_view_name": "ProgressView",
            "bar_style": "success",
            "description": "",
            "description_tooltip": null,
            "layout": "IPY_MODEL_061ac317764342318d1e80eba1057103",
            "max": 127,
            "min": 0,
            "orientation": "horizontal",
            "style": "IPY_MODEL_d9b8276729ba40c0bb2e4e5fd10b0db8",
            "value": 127
          }
        },
        "0c9d8b8f66c244a5ae5de653103ec0cb": {
          "model_module": "@jupyter-widgets/controls",
          "model_name": "HTMLModel",
          "model_module_version": "1.5.0",
          "state": {
            "_dom_classes": [],
            "_model_module": "@jupyter-widgets/controls",
            "_model_module_version": "1.5.0",
            "_model_name": "HTMLModel",
            "_view_count": null,
            "_view_module": "@jupyter-widgets/controls",
            "_view_module_version": "1.5.0",
            "_view_name": "HTMLView",
            "description": "",
            "description_tooltip": null,
            "layout": "IPY_MODEL_c4d44427e30343b2b86d3dd84e6cf5bc",
            "placeholder": "​",
            "style": "IPY_MODEL_2fff5645249149a5a2b8fb684023796b",
            "value": " 127/127 [00:02&lt;00:00, 58.59it/s]"
          }
        },
        "ac9c893bcf7d4c47972809078280b252": {
          "model_module": "@jupyter-widgets/base",
          "model_name": "LayoutModel",
          "model_module_version": "1.2.0",
          "state": {
            "_model_module": "@jupyter-widgets/base",
            "_model_module_version": "1.2.0",
            "_model_name": "LayoutModel",
            "_view_count": null,
            "_view_module": "@jupyter-widgets/base",
            "_view_module_version": "1.2.0",
            "_view_name": "LayoutView",
            "align_content": null,
            "align_items": null,
            "align_self": null,
            "border": null,
            "bottom": null,
            "display": null,
            "flex": null,
            "flex_flow": null,
            "grid_area": null,
            "grid_auto_columns": null,
            "grid_auto_flow": null,
            "grid_auto_rows": null,
            "grid_column": null,
            "grid_gap": null,
            "grid_row": null,
            "grid_template_areas": null,
            "grid_template_columns": null,
            "grid_template_rows": null,
            "height": null,
            "justify_content": null,
            "justify_items": null,
            "left": null,
            "margin": null,
            "max_height": null,
            "max_width": null,
            "min_height": null,
            "min_width": null,
            "object_fit": null,
            "object_position": null,
            "order": null,
            "overflow": null,
            "overflow_x": null,
            "overflow_y": null,
            "padding": null,
            "right": null,
            "top": null,
            "visibility": null,
            "width": null
          }
        },
        "1caa51d9c5244422ae6355151417bcd2": {
          "model_module": "@jupyter-widgets/base",
          "model_name": "LayoutModel",
          "model_module_version": "1.2.0",
          "state": {
            "_model_module": "@jupyter-widgets/base",
            "_model_module_version": "1.2.0",
            "_model_name": "LayoutModel",
            "_view_count": null,
            "_view_module": "@jupyter-widgets/base",
            "_view_module_version": "1.2.0",
            "_view_name": "LayoutView",
            "align_content": null,
            "align_items": null,
            "align_self": null,
            "border": null,
            "bottom": null,
            "display": null,
            "flex": null,
            "flex_flow": null,
            "grid_area": null,
            "grid_auto_columns": null,
            "grid_auto_flow": null,
            "grid_auto_rows": null,
            "grid_column": null,
            "grid_gap": null,
            "grid_row": null,
            "grid_template_areas": null,
            "grid_template_columns": null,
            "grid_template_rows": null,
            "height": null,
            "justify_content": null,
            "justify_items": null,
            "left": null,
            "margin": null,
            "max_height": null,
            "max_width": null,
            "min_height": null,
            "min_width": null,
            "object_fit": null,
            "object_position": null,
            "order": null,
            "overflow": null,
            "overflow_x": null,
            "overflow_y": null,
            "padding": null,
            "right": null,
            "top": null,
            "visibility": null,
            "width": null
          }
        },
        "8f6cc3142a9b4ae8b75e83e501da49a2": {
          "model_module": "@jupyter-widgets/controls",
          "model_name": "DescriptionStyleModel",
          "model_module_version": "1.5.0",
          "state": {
            "_model_module": "@jupyter-widgets/controls",
            "_model_module_version": "1.5.0",
            "_model_name": "DescriptionStyleModel",
            "_view_count": null,
            "_view_module": "@jupyter-widgets/base",
            "_view_module_version": "1.2.0",
            "_view_name": "StyleView",
            "description_width": ""
          }
        },
        "061ac317764342318d1e80eba1057103": {
          "model_module": "@jupyter-widgets/base",
          "model_name": "LayoutModel",
          "model_module_version": "1.2.0",
          "state": {
            "_model_module": "@jupyter-widgets/base",
            "_model_module_version": "1.2.0",
            "_model_name": "LayoutModel",
            "_view_count": null,
            "_view_module": "@jupyter-widgets/base",
            "_view_module_version": "1.2.0",
            "_view_name": "LayoutView",
            "align_content": null,
            "align_items": null,
            "align_self": null,
            "border": null,
            "bottom": null,
            "display": null,
            "flex": null,
            "flex_flow": null,
            "grid_area": null,
            "grid_auto_columns": null,
            "grid_auto_flow": null,
            "grid_auto_rows": null,
            "grid_column": null,
            "grid_gap": null,
            "grid_row": null,
            "grid_template_areas": null,
            "grid_template_columns": null,
            "grid_template_rows": null,
            "height": null,
            "justify_content": null,
            "justify_items": null,
            "left": null,
            "margin": null,
            "max_height": null,
            "max_width": null,
            "min_height": null,
            "min_width": null,
            "object_fit": null,
            "object_position": null,
            "order": null,
            "overflow": null,
            "overflow_x": null,
            "overflow_y": null,
            "padding": null,
            "right": null,
            "top": null,
            "visibility": null,
            "width": null
          }
        },
        "d9b8276729ba40c0bb2e4e5fd10b0db8": {
          "model_module": "@jupyter-widgets/controls",
          "model_name": "ProgressStyleModel",
          "model_module_version": "1.5.0",
          "state": {
            "_model_module": "@jupyter-widgets/controls",
            "_model_module_version": "1.5.0",
            "_model_name": "ProgressStyleModel",
            "_view_count": null,
            "_view_module": "@jupyter-widgets/base",
            "_view_module_version": "1.2.0",
            "_view_name": "StyleView",
            "bar_color": null,
            "description_width": ""
          }
        },
        "c4d44427e30343b2b86d3dd84e6cf5bc": {
          "model_module": "@jupyter-widgets/base",
          "model_name": "LayoutModel",
          "model_module_version": "1.2.0",
          "state": {
            "_model_module": "@jupyter-widgets/base",
            "_model_module_version": "1.2.0",
            "_model_name": "LayoutModel",
            "_view_count": null,
            "_view_module": "@jupyter-widgets/base",
            "_view_module_version": "1.2.0",
            "_view_name": "LayoutView",
            "align_content": null,
            "align_items": null,
            "align_self": null,
            "border": null,
            "bottom": null,
            "display": null,
            "flex": null,
            "flex_flow": null,
            "grid_area": null,
            "grid_auto_columns": null,
            "grid_auto_flow": null,
            "grid_auto_rows": null,
            "grid_column": null,
            "grid_gap": null,
            "grid_row": null,
            "grid_template_areas": null,
            "grid_template_columns": null,
            "grid_template_rows": null,
            "height": null,
            "justify_content": null,
            "justify_items": null,
            "left": null,
            "margin": null,
            "max_height": null,
            "max_width": null,
            "min_height": null,
            "min_width": null,
            "object_fit": null,
            "object_position": null,
            "order": null,
            "overflow": null,
            "overflow_x": null,
            "overflow_y": null,
            "padding": null,
            "right": null,
            "top": null,
            "visibility": null,
            "width": null
          }
        },
        "2fff5645249149a5a2b8fb684023796b": {
          "model_module": "@jupyter-widgets/controls",
          "model_name": "DescriptionStyleModel",
          "model_module_version": "1.5.0",
          "state": {
            "_model_module": "@jupyter-widgets/controls",
            "_model_module_version": "1.5.0",
            "_model_name": "DescriptionStyleModel",
            "_view_count": null,
            "_view_module": "@jupyter-widgets/base",
            "_view_module_version": "1.2.0",
            "_view_name": "StyleView",
            "description_width": ""
          }
        }
      }
    },
    "kaggle": {
      "accelerator": "gpu",
      "dataSources": [],
      "dockerImageVersionId": 31090,
      "isInternetEnabled": true,
      "language": "python",
      "sourceType": "notebook",
      "isGpuEnabled": true
    }
  },
  "nbformat_minor": 0,
  "nbformat": 4,
  "cells": [
    {
      "cell_type": "markdown",
      "source": [
        "#### What is the Vector database ?"
      ],
      "metadata": {
        "id": "_IM-hGqiFpVD"
      }
    },
    {
      "cell_type": "code",
      "source": [
        "!pip install chromadb datasets faiss-cpu sentence-transformers"
      ],
      "metadata": {
        "colab": {
          "base_uri": "https://localhost:8080/"
        },
        "id": "uAoBn-335Aqr",
        "outputId": "7651f77f-962e-413c-fc02-1e952d884e48",
        "trusted": true,
        "execution": {
          "iopub.status.busy": "2025-09-10T19:00:36.201320Z",
          "iopub.execute_input": "2025-09-10T19:00:36.202119Z",
          "iopub.status.idle": "2025-09-10T19:02:17.249902Z",
          "shell.execute_reply.started": "2025-09-10T19:00:36.202091Z",
          "shell.execute_reply": "2025-09-10T19:02:17.249180Z"
        },
        "collapsed": true
      },
      "outputs": [
        {
          "output_type": "stream",
          "name": "stdout",
          "text": [
            "Requirement already satisfied: chromadb in /usr/local/lib/python3.12/dist-packages (1.0.20)\n",
            "Requirement already satisfied: datasets in /usr/local/lib/python3.12/dist-packages (4.0.0)\n",
            "Requirement already satisfied: faiss-cpu in /usr/local/lib/python3.12/dist-packages (1.12.0)\n",
            "Requirement already satisfied: sentence-transformers in /usr/local/lib/python3.12/dist-packages (5.1.0)\n",
            "Requirement already satisfied: build>=1.0.3 in /usr/local/lib/python3.12/dist-packages (from chromadb) (1.3.0)\n",
            "Requirement already satisfied: pydantic>=1.9 in /usr/local/lib/python3.12/dist-packages (from chromadb) (2.11.7)\n",
            "Requirement already satisfied: pybase64>=1.4.1 in /usr/local/lib/python3.12/dist-packages (from chromadb) (1.4.2)\n",
            "Requirement already satisfied: uvicorn>=0.18.3 in /usr/local/lib/python3.12/dist-packages (from uvicorn[standard]>=0.18.3->chromadb) (0.35.0)\n",
            "Requirement already satisfied: numpy>=1.22.5 in /usr/local/lib/python3.12/dist-packages (from chromadb) (2.0.2)\n",
            "Requirement already satisfied: posthog<6.0.0,>=2.4.0 in /usr/local/lib/python3.12/dist-packages (from chromadb) (5.4.0)\n",
            "Requirement already satisfied: typing-extensions>=4.5.0 in /usr/local/lib/python3.12/dist-packages (from chromadb) (4.15.0)\n",
            "Requirement already satisfied: onnxruntime>=1.14.1 in /usr/local/lib/python3.12/dist-packages (from chromadb) (1.22.1)\n",
            "Requirement already satisfied: opentelemetry-api>=1.2.0 in /usr/local/lib/python3.12/dist-packages (from chromadb) (1.37.0)\n",
            "Requirement already satisfied: opentelemetry-exporter-otlp-proto-grpc>=1.2.0 in /usr/local/lib/python3.12/dist-packages (from chromadb) (1.37.0)\n",
            "Requirement already satisfied: opentelemetry-sdk>=1.2.0 in /usr/local/lib/python3.12/dist-packages (from chromadb) (1.37.0)\n",
            "Requirement already satisfied: tokenizers>=0.13.2 in /usr/local/lib/python3.12/dist-packages (from chromadb) (0.22.0)\n",
            "Requirement already satisfied: pypika>=0.48.9 in /usr/local/lib/python3.12/dist-packages (from chromadb) (0.48.9)\n",
            "Requirement already satisfied: tqdm>=4.65.0 in /usr/local/lib/python3.12/dist-packages (from chromadb) (4.67.1)\n",
            "Requirement already satisfied: overrides>=7.3.1 in /usr/local/lib/python3.12/dist-packages (from chromadb) (7.7.0)\n",
            "Requirement already satisfied: importlib-resources in /usr/local/lib/python3.12/dist-packages (from chromadb) (6.5.2)\n",
            "Requirement already satisfied: grpcio>=1.58.0 in /usr/local/lib/python3.12/dist-packages (from chromadb) (1.74.0)\n",
            "Requirement already satisfied: bcrypt>=4.0.1 in /usr/local/lib/python3.12/dist-packages (from chromadb) (4.3.0)\n",
            "Requirement already satisfied: typer>=0.9.0 in /usr/local/lib/python3.12/dist-packages (from chromadb) (0.17.3)\n",
            "Requirement already satisfied: kubernetes>=28.1.0 in /usr/local/lib/python3.12/dist-packages (from chromadb) (33.1.0)\n",
            "Requirement already satisfied: tenacity>=8.2.3 in /usr/local/lib/python3.12/dist-packages (from chromadb) (8.5.0)\n",
            "Requirement already satisfied: pyyaml>=6.0.0 in /usr/local/lib/python3.12/dist-packages (from chromadb) (6.0.2)\n",
            "Requirement already satisfied: mmh3>=4.0.1 in /usr/local/lib/python3.12/dist-packages (from chromadb) (5.2.0)\n",
            "Requirement already satisfied: orjson>=3.9.12 in /usr/local/lib/python3.12/dist-packages (from chromadb) (3.11.3)\n",
            "Requirement already satisfied: httpx>=0.27.0 in /usr/local/lib/python3.12/dist-packages (from chromadb) (0.28.1)\n",
            "Requirement already satisfied: rich>=10.11.0 in /usr/local/lib/python3.12/dist-packages (from chromadb) (13.9.4)\n",
            "Requirement already satisfied: jsonschema>=4.19.0 in /usr/local/lib/python3.12/dist-packages (from chromadb) (4.25.1)\n",
            "Requirement already satisfied: filelock in /usr/local/lib/python3.12/dist-packages (from datasets) (3.19.1)\n",
            "Requirement already satisfied: pyarrow>=15.0.0 in /usr/local/lib/python3.12/dist-packages (from datasets) (18.1.0)\n",
            "Requirement already satisfied: dill<0.3.9,>=0.3.0 in /usr/local/lib/python3.12/dist-packages (from datasets) (0.3.8)\n",
            "Requirement already satisfied: pandas in /usr/local/lib/python3.12/dist-packages (from datasets) (2.2.2)\n",
            "Requirement already satisfied: requests>=2.32.2 in /usr/local/lib/python3.12/dist-packages (from datasets) (2.32.4)\n",
            "Requirement already satisfied: xxhash in /usr/local/lib/python3.12/dist-packages (from datasets) (3.5.0)\n",
            "Requirement already satisfied: multiprocess<0.70.17 in /usr/local/lib/python3.12/dist-packages (from datasets) (0.70.16)\n",
            "Requirement already satisfied: fsspec<=2025.3.0,>=2023.1.0 in /usr/local/lib/python3.12/dist-packages (from fsspec[http]<=2025.3.0,>=2023.1.0->datasets) (2025.3.0)\n",
            "Requirement already satisfied: huggingface-hub>=0.24.0 in /usr/local/lib/python3.12/dist-packages (from datasets) (0.34.4)\n",
            "Requirement already satisfied: packaging in /usr/local/lib/python3.12/dist-packages (from datasets) (25.0)\n",
            "Requirement already satisfied: transformers<5.0.0,>=4.41.0 in /usr/local/lib/python3.12/dist-packages (from sentence-transformers) (4.56.1)\n",
            "Requirement already satisfied: torch>=1.11.0 in /usr/local/lib/python3.12/dist-packages (from sentence-transformers) (2.8.0+cu126)\n",
            "Requirement already satisfied: scikit-learn in /usr/local/lib/python3.12/dist-packages (from sentence-transformers) (1.6.1)\n",
            "Requirement already satisfied: scipy in /usr/local/lib/python3.12/dist-packages (from sentence-transformers) (1.16.1)\n",
            "Requirement already satisfied: Pillow in /usr/local/lib/python3.12/dist-packages (from sentence-transformers) (11.3.0)\n",
            "Requirement already satisfied: pyproject_hooks in /usr/local/lib/python3.12/dist-packages (from build>=1.0.3->chromadb) (1.2.0)\n",
            "Requirement already satisfied: aiohttp!=4.0.0a0,!=4.0.0a1 in /usr/local/lib/python3.12/dist-packages (from fsspec[http]<=2025.3.0,>=2023.1.0->datasets) (3.12.15)\n",
            "Requirement already satisfied: anyio in /usr/local/lib/python3.12/dist-packages (from httpx>=0.27.0->chromadb) (4.10.0)\n",
            "Requirement already satisfied: certifi in /usr/local/lib/python3.12/dist-packages (from httpx>=0.27.0->chromadb) (2025.8.3)\n",
            "Requirement already satisfied: httpcore==1.* in /usr/local/lib/python3.12/dist-packages (from httpx>=0.27.0->chromadb) (1.0.9)\n",
            "Requirement already satisfied: idna in /usr/local/lib/python3.12/dist-packages (from httpx>=0.27.0->chromadb) (3.10)\n",
            "Requirement already satisfied: h11>=0.16 in /usr/local/lib/python3.12/dist-packages (from httpcore==1.*->httpx>=0.27.0->chromadb) (0.16.0)\n",
            "Requirement already satisfied: hf-xet<2.0.0,>=1.1.3 in /usr/local/lib/python3.12/dist-packages (from huggingface-hub>=0.24.0->datasets) (1.1.9)\n",
            "Requirement already satisfied: attrs>=22.2.0 in /usr/local/lib/python3.12/dist-packages (from jsonschema>=4.19.0->chromadb) (25.3.0)\n",
            "Requirement already satisfied: jsonschema-specifications>=2023.03.6 in /usr/local/lib/python3.12/dist-packages (from jsonschema>=4.19.0->chromadb) (2025.4.1)\n",
            "Requirement already satisfied: referencing>=0.28.4 in /usr/local/lib/python3.12/dist-packages (from jsonschema>=4.19.0->chromadb) (0.36.2)\n",
            "Requirement already satisfied: rpds-py>=0.7.1 in /usr/local/lib/python3.12/dist-packages (from jsonschema>=4.19.0->chromadb) (0.27.1)\n",
            "Requirement already satisfied: six>=1.9.0 in /usr/local/lib/python3.12/dist-packages (from kubernetes>=28.1.0->chromadb) (1.17.0)\n",
            "Requirement already satisfied: python-dateutil>=2.5.3 in /usr/local/lib/python3.12/dist-packages (from kubernetes>=28.1.0->chromadb) (2.9.0.post0)\n",
            "Requirement already satisfied: google-auth>=1.0.1 in /usr/local/lib/python3.12/dist-packages (from kubernetes>=28.1.0->chromadb) (2.38.0)\n",
            "Requirement already satisfied: websocket-client!=0.40.0,!=0.41.*,!=0.42.*,>=0.32.0 in /usr/local/lib/python3.12/dist-packages (from kubernetes>=28.1.0->chromadb) (1.8.0)\n",
            "Requirement already satisfied: requests-oauthlib in /usr/local/lib/python3.12/dist-packages (from kubernetes>=28.1.0->chromadb) (2.0.0)\n",
            "Requirement already satisfied: oauthlib>=3.2.2 in /usr/local/lib/python3.12/dist-packages (from kubernetes>=28.1.0->chromadb) (3.3.1)\n",
            "Requirement already satisfied: urllib3>=1.24.2 in /usr/local/lib/python3.12/dist-packages (from kubernetes>=28.1.0->chromadb) (2.5.0)\n",
            "Requirement already satisfied: durationpy>=0.7 in /usr/local/lib/python3.12/dist-packages (from kubernetes>=28.1.0->chromadb) (0.10)\n",
            "Requirement already satisfied: coloredlogs in /usr/local/lib/python3.12/dist-packages (from onnxruntime>=1.14.1->chromadb) (15.0.1)\n",
            "Requirement already satisfied: flatbuffers in /usr/local/lib/python3.12/dist-packages (from onnxruntime>=1.14.1->chromadb) (25.2.10)\n",
            "Requirement already satisfied: protobuf in /usr/local/lib/python3.12/dist-packages (from onnxruntime>=1.14.1->chromadb) (5.29.5)\n",
            "Requirement already satisfied: sympy in /usr/local/lib/python3.12/dist-packages (from onnxruntime>=1.14.1->chromadb) (1.13.3)\n",
            "Requirement already satisfied: importlib-metadata<8.8.0,>=6.0 in /usr/local/lib/python3.12/dist-packages (from opentelemetry-api>=1.2.0->chromadb) (8.7.0)\n",
            "Requirement already satisfied: googleapis-common-protos~=1.57 in /usr/local/lib/python3.12/dist-packages (from opentelemetry-exporter-otlp-proto-grpc>=1.2.0->chromadb) (1.70.0)\n",
            "Requirement already satisfied: opentelemetry-exporter-otlp-proto-common==1.37.0 in /usr/local/lib/python3.12/dist-packages (from opentelemetry-exporter-otlp-proto-grpc>=1.2.0->chromadb) (1.37.0)\n",
            "Requirement already satisfied: opentelemetry-proto==1.37.0 in /usr/local/lib/python3.12/dist-packages (from opentelemetry-exporter-otlp-proto-grpc>=1.2.0->chromadb) (1.37.0)\n",
            "Requirement already satisfied: opentelemetry-semantic-conventions==0.58b0 in /usr/local/lib/python3.12/dist-packages (from opentelemetry-sdk>=1.2.0->chromadb) (0.58b0)\n",
            "Requirement already satisfied: backoff>=1.10.0 in /usr/local/lib/python3.12/dist-packages (from posthog<6.0.0,>=2.4.0->chromadb) (2.2.1)\n",
            "Requirement already satisfied: distro>=1.5.0 in /usr/local/lib/python3.12/dist-packages (from posthog<6.0.0,>=2.4.0->chromadb) (1.9.0)\n",
            "Requirement already satisfied: annotated-types>=0.6.0 in /usr/local/lib/python3.12/dist-packages (from pydantic>=1.9->chromadb) (0.7.0)\n",
            "Requirement already satisfied: pydantic-core==2.33.2 in /usr/local/lib/python3.12/dist-packages (from pydantic>=1.9->chromadb) (2.33.2)\n",
            "Requirement already satisfied: typing-inspection>=0.4.0 in /usr/local/lib/python3.12/dist-packages (from pydantic>=1.9->chromadb) (0.4.1)\n",
            "Requirement already satisfied: charset_normalizer<4,>=2 in /usr/local/lib/python3.12/dist-packages (from requests>=2.32.2->datasets) (3.4.3)\n",
            "Requirement already satisfied: markdown-it-py>=2.2.0 in /usr/local/lib/python3.12/dist-packages (from rich>=10.11.0->chromadb) (4.0.0)\n",
            "Requirement already satisfied: pygments<3.0.0,>=2.13.0 in /usr/local/lib/python3.12/dist-packages (from rich>=10.11.0->chromadb) (2.19.2)\n",
            "Requirement already satisfied: setuptools in /usr/local/lib/python3.12/dist-packages (from torch>=1.11.0->sentence-transformers) (75.2.0)\n",
            "Requirement already satisfied: networkx in /usr/local/lib/python3.12/dist-packages (from torch>=1.11.0->sentence-transformers) (3.5)\n",
            "Requirement already satisfied: jinja2 in /usr/local/lib/python3.12/dist-packages (from torch>=1.11.0->sentence-transformers) (3.1.6)\n",
            "Requirement already satisfied: nvidia-cuda-nvrtc-cu12==12.6.77 in /usr/local/lib/python3.12/dist-packages (from torch>=1.11.0->sentence-transformers) (12.6.77)\n",
            "Requirement already satisfied: nvidia-cuda-runtime-cu12==12.6.77 in /usr/local/lib/python3.12/dist-packages (from torch>=1.11.0->sentence-transformers) (12.6.77)\n",
            "Requirement already satisfied: nvidia-cuda-cupti-cu12==12.6.80 in /usr/local/lib/python3.12/dist-packages (from torch>=1.11.0->sentence-transformers) (12.6.80)\n",
            "Requirement already satisfied: nvidia-cudnn-cu12==9.10.2.21 in /usr/local/lib/python3.12/dist-packages (from torch>=1.11.0->sentence-transformers) (9.10.2.21)\n",
            "Requirement already satisfied: nvidia-cublas-cu12==12.6.4.1 in /usr/local/lib/python3.12/dist-packages (from torch>=1.11.0->sentence-transformers) (12.6.4.1)\n",
            "Requirement already satisfied: nvidia-cufft-cu12==11.3.0.4 in /usr/local/lib/python3.12/dist-packages (from torch>=1.11.0->sentence-transformers) (11.3.0.4)\n",
            "Requirement already satisfied: nvidia-curand-cu12==10.3.7.77 in /usr/local/lib/python3.12/dist-packages (from torch>=1.11.0->sentence-transformers) (10.3.7.77)\n",
            "Requirement already satisfied: nvidia-cusolver-cu12==11.7.1.2 in /usr/local/lib/python3.12/dist-packages (from torch>=1.11.0->sentence-transformers) (11.7.1.2)\n",
            "Requirement already satisfied: nvidia-cusparse-cu12==12.5.4.2 in /usr/local/lib/python3.12/dist-packages (from torch>=1.11.0->sentence-transformers) (12.5.4.2)\n",
            "Requirement already satisfied: nvidia-cusparselt-cu12==0.7.1 in /usr/local/lib/python3.12/dist-packages (from torch>=1.11.0->sentence-transformers) (0.7.1)\n",
            "Requirement already satisfied: nvidia-nccl-cu12==2.27.3 in /usr/local/lib/python3.12/dist-packages (from torch>=1.11.0->sentence-transformers) (2.27.3)\n",
            "Requirement already satisfied: nvidia-nvtx-cu12==12.6.77 in /usr/local/lib/python3.12/dist-packages (from torch>=1.11.0->sentence-transformers) (12.6.77)\n",
            "Requirement already satisfied: nvidia-nvjitlink-cu12==12.6.85 in /usr/local/lib/python3.12/dist-packages (from torch>=1.11.0->sentence-transformers) (12.6.85)\n",
            "Requirement already satisfied: nvidia-cufile-cu12==1.11.1.6 in /usr/local/lib/python3.12/dist-packages (from torch>=1.11.0->sentence-transformers) (1.11.1.6)\n",
            "Requirement already satisfied: triton==3.4.0 in /usr/local/lib/python3.12/dist-packages (from torch>=1.11.0->sentence-transformers) (3.4.0)\n",
            "Requirement already satisfied: regex!=2019.12.17 in /usr/local/lib/python3.12/dist-packages (from transformers<5.0.0,>=4.41.0->sentence-transformers) (2024.11.6)\n",
            "Requirement already satisfied: safetensors>=0.4.3 in /usr/local/lib/python3.12/dist-packages (from transformers<5.0.0,>=4.41.0->sentence-transformers) (0.6.2)\n",
            "Requirement already satisfied: click>=8.0.0 in /usr/local/lib/python3.12/dist-packages (from typer>=0.9.0->chromadb) (8.2.1)\n",
            "Requirement already satisfied: shellingham>=1.3.0 in /usr/local/lib/python3.12/dist-packages (from typer>=0.9.0->chromadb) (1.5.4)\n",
            "Requirement already satisfied: httptools>=0.6.3 in /usr/local/lib/python3.12/dist-packages (from uvicorn[standard]>=0.18.3->chromadb) (0.6.4)\n",
            "Requirement already satisfied: python-dotenv>=0.13 in /usr/local/lib/python3.12/dist-packages (from uvicorn[standard]>=0.18.3->chromadb) (1.1.1)\n",
            "Requirement already satisfied: uvloop>=0.15.1 in /usr/local/lib/python3.12/dist-packages (from uvicorn[standard]>=0.18.3->chromadb) (0.21.0)\n",
            "Requirement already satisfied: watchfiles>=0.13 in /usr/local/lib/python3.12/dist-packages (from uvicorn[standard]>=0.18.3->chromadb) (1.1.0)\n",
            "Requirement already satisfied: websockets>=10.4 in /usr/local/lib/python3.12/dist-packages (from uvicorn[standard]>=0.18.3->chromadb) (15.0.1)\n",
            "Requirement already satisfied: pytz>=2020.1 in /usr/local/lib/python3.12/dist-packages (from pandas->datasets) (2025.2)\n",
            "Requirement already satisfied: tzdata>=2022.7 in /usr/local/lib/python3.12/dist-packages (from pandas->datasets) (2025.2)\n",
            "Requirement already satisfied: joblib>=1.2.0 in /usr/local/lib/python3.12/dist-packages (from scikit-learn->sentence-transformers) (1.5.2)\n",
            "Requirement already satisfied: threadpoolctl>=3.1.0 in /usr/local/lib/python3.12/dist-packages (from scikit-learn->sentence-transformers) (3.6.0)\n",
            "Requirement already satisfied: aiohappyeyeballs>=2.5.0 in /usr/local/lib/python3.12/dist-packages (from aiohttp!=4.0.0a0,!=4.0.0a1->fsspec[http]<=2025.3.0,>=2023.1.0->datasets) (2.6.1)\n",
            "Requirement already satisfied: aiosignal>=1.4.0 in /usr/local/lib/python3.12/dist-packages (from aiohttp!=4.0.0a0,!=4.0.0a1->fsspec[http]<=2025.3.0,>=2023.1.0->datasets) (1.4.0)\n",
            "Requirement already satisfied: frozenlist>=1.1.1 in /usr/local/lib/python3.12/dist-packages (from aiohttp!=4.0.0a0,!=4.0.0a1->fsspec[http]<=2025.3.0,>=2023.1.0->datasets) (1.7.0)\n",
            "Requirement already satisfied: multidict<7.0,>=4.5 in /usr/local/lib/python3.12/dist-packages (from aiohttp!=4.0.0a0,!=4.0.0a1->fsspec[http]<=2025.3.0,>=2023.1.0->datasets) (6.6.4)\n",
            "Requirement already satisfied: propcache>=0.2.0 in /usr/local/lib/python3.12/dist-packages (from aiohttp!=4.0.0a0,!=4.0.0a1->fsspec[http]<=2025.3.0,>=2023.1.0->datasets) (0.3.2)\n",
            "Requirement already satisfied: yarl<2.0,>=1.17.0 in /usr/local/lib/python3.12/dist-packages (from aiohttp!=4.0.0a0,!=4.0.0a1->fsspec[http]<=2025.3.0,>=2023.1.0->datasets) (1.20.1)\n",
            "Requirement already satisfied: cachetools<6.0,>=2.0.0 in /usr/local/lib/python3.12/dist-packages (from google-auth>=1.0.1->kubernetes>=28.1.0->chromadb) (5.5.2)\n",
            "Requirement already satisfied: pyasn1-modules>=0.2.1 in /usr/local/lib/python3.12/dist-packages (from google-auth>=1.0.1->kubernetes>=28.1.0->chromadb) (0.4.2)\n",
            "Requirement already satisfied: rsa<5,>=3.1.4 in /usr/local/lib/python3.12/dist-packages (from google-auth>=1.0.1->kubernetes>=28.1.0->chromadb) (4.9.1)\n",
            "Requirement already satisfied: zipp>=3.20 in /usr/local/lib/python3.12/dist-packages (from importlib-metadata<8.8.0,>=6.0->opentelemetry-api>=1.2.0->chromadb) (3.23.0)\n",
            "Requirement already satisfied: mdurl~=0.1 in /usr/local/lib/python3.12/dist-packages (from markdown-it-py>=2.2.0->rich>=10.11.0->chromadb) (0.1.2)\n",
            "Requirement already satisfied: mpmath<1.4,>=1.1.0 in /usr/local/lib/python3.12/dist-packages (from sympy->onnxruntime>=1.14.1->chromadb) (1.3.0)\n",
            "Requirement already satisfied: sniffio>=1.1 in /usr/local/lib/python3.12/dist-packages (from anyio->httpx>=0.27.0->chromadb) (1.3.1)\n",
            "Requirement already satisfied: humanfriendly>=9.1 in /usr/local/lib/python3.12/dist-packages (from coloredlogs->onnxruntime>=1.14.1->chromadb) (10.0)\n",
            "Requirement already satisfied: MarkupSafe>=2.0 in /usr/local/lib/python3.12/dist-packages (from jinja2->torch>=1.11.0->sentence-transformers) (3.0.2)\n",
            "Requirement already satisfied: pyasn1<0.7.0,>=0.6.1 in /usr/local/lib/python3.12/dist-packages (from pyasn1-modules>=0.2.1->google-auth>=1.0.1->kubernetes>=28.1.0->chromadb) (0.6.1)\n"
          ]
        }
      ],
      "execution_count": 1
    },
    {
      "cell_type": "code",
      "source": [
        "from datasets import load_dataset\n",
        "\n",
        "qna_dataset = load_dataset(\"sadeem-ai/arabic-qna\")\n",
        "news_dataset = load_dataset(\"arbml/SANAD\")"
      ],
      "metadata": {
        "colab": {
          "base_uri": "https://localhost:8080/"
        },
        "id": "fcmXR-rk5fz2",
        "outputId": "e4cc3c4f-5316-47e9-aa93-eda66cf57007",
        "trusted": true,
        "execution": {
          "iopub.status.busy": "2025-09-10T19:02:34.784670Z",
          "iopub.execute_input": "2025-09-10T19:02:34.785195Z",
          "iopub.status.idle": "2025-09-10T19:02:35.818195Z",
          "shell.execute_reply.started": "2025-09-10T19:02:34.785170Z",
          "shell.execute_reply": "2025-09-10T19:02:35.817681Z"
        }
      },
      "outputs": [
        {
          "output_type": "stream",
          "name": "stderr",
          "text": [
            "/usr/local/lib/python3.12/dist-packages/huggingface_hub/utils/_auth.py:94: UserWarning: \n",
            "The secret `HF_TOKEN` does not exist in your Colab secrets.\n",
            "To authenticate with the Hugging Face Hub, create a token in your settings tab (https://huggingface.co/settings/tokens), set it as secret in your Google Colab and restart your session.\n",
            "You will be able to reuse this secret in all of your notebooks.\n",
            "Please note that authentication is recommended but still optional to access public models or datasets.\n",
            "  warnings.warn(\n",
            "Repo card metadata block was not found. Setting CardData to empty.\n",
            "WARNING:huggingface_hub.repocard:Repo card metadata block was not found. Setting CardData to empty.\n"
          ]
        }
      ],
      "execution_count": 1
    },
    {
      "cell_type": "code",
      "source": [
        "news_dataset"
      ],
      "metadata": {
        "colab": {
          "base_uri": "https://localhost:8080/"
        },
        "id": "iNoYhs58xQpQ",
        "outputId": "c6ac6be5-e236-4e80-e3c6-0a328695a379"
      },
      "execution_count": 2,
      "outputs": [
        {
          "output_type": "execute_result",
          "data": {
            "text/plain": [
              "DatasetDict({\n",
              "    train: Dataset({\n",
              "        features: ['Article', 'label'],\n",
              "        num_rows: 141807\n",
              "    })\n",
              "})"
            ]
          },
          "metadata": {},
          "execution_count": 2
        }
      ]
    },
    {
      "cell_type": "code",
      "source": [
        "qna_dataset"
      ],
      "metadata": {
        "colab": {
          "base_uri": "https://localhost:8080/"
        },
        "id": "sbKf38l_6mp_",
        "outputId": "5b725e57-6a3a-408c-ad7d-7a8e70eb739f",
        "trusted": true,
        "execution": {
          "iopub.status.busy": "2025-09-10T19:02:36.079090Z",
          "iopub.execute_input": "2025-09-10T19:02:36.079340Z",
          "iopub.status.idle": "2025-09-10T19:02:36.084285Z",
          "shell.execute_reply.started": "2025-09-10T19:02:36.079321Z",
          "shell.execute_reply": "2025-09-10T19:02:36.083726Z"
        }
      },
      "outputs": [
        {
          "output_type": "execute_result",
          "data": {
            "text/plain": [
              "DatasetDict({\n",
              "    train: Dataset({\n",
              "        features: ['title', 'text', 'source', 'question', 'answer', 'has_answer'],\n",
              "        num_rows: 5000\n",
              "    })\n",
              "    test: Dataset({\n",
              "        features: ['title', 'text', 'source', 'question', 'answer', 'has_answer'],\n",
              "        num_rows: 1030\n",
              "    })\n",
              "})"
            ]
          },
          "metadata": {},
          "execution_count": 3
        }
      ],
      "execution_count": 3
    },
    {
      "cell_type": "code",
      "source": [
        "qna_dataset = qna_dataset.filter(lambda example : example['has_answer'] == True)\n",
        "qna_dataset"
      ],
      "metadata": {
        "colab": {
          "base_uri": "https://localhost:8080/"
        },
        "id": "BndHXnBM6xwR",
        "outputId": "fabecb70-b527-444d-d39e-a766f9835074",
        "trusted": true,
        "execution": {
          "iopub.status.busy": "2025-09-10T19:02:37.764266Z",
          "iopub.execute_input": "2025-09-10T19:02:37.764569Z",
          "iopub.status.idle": "2025-09-10T19:02:37.859851Z",
          "shell.execute_reply.started": "2025-09-10T19:02:37.764546Z",
          "shell.execute_reply": "2025-09-10T19:02:37.859314Z"
        }
      },
      "outputs": [
        {
          "output_type": "execute_result",
          "data": {
            "text/plain": [
              "DatasetDict({\n",
              "    train: Dataset({\n",
              "        features: ['title', 'text', 'source', 'question', 'answer', 'has_answer'],\n",
              "        num_rows: 4037\n",
              "    })\n",
              "    test: Dataset({\n",
              "        features: ['title', 'text', 'source', 'question', 'answer', 'has_answer'],\n",
              "        num_rows: 836\n",
              "    })\n",
              "})"
            ]
          },
          "metadata": {},
          "execution_count": 4
        }
      ],
      "execution_count": 4
    },
    {
      "cell_type": "code",
      "source": [
        "news_dataset = news_dataset.filter(lambda example : len(example['Article'])>= 100)\n",
        "news_dataset"
      ],
      "metadata": {
        "colab": {
          "base_uri": "https://localhost:8080/"
        },
        "id": "rwTn29u8xjNB",
        "outputId": "f913b5b9-edd7-4834-a983-5763f8a6568c"
      },
      "execution_count": 5,
      "outputs": [
        {
          "output_type": "execute_result",
          "data": {
            "text/plain": [
              "DatasetDict({\n",
              "    train: Dataset({\n",
              "        features: ['Article', 'label'],\n",
              "        num_rows: 141603\n",
              "    })\n",
              "})"
            ]
          },
          "metadata": {},
          "execution_count": 5
        }
      ]
    },
    {
      "cell_type": "code",
      "source": [
        "news_dataset = news_dataset.shuffle(seed = 42)"
      ],
      "metadata": {
        "id": "ngQnbO2r1EID"
      },
      "execution_count": 6,
      "outputs": []
    },
    {
      "cell_type": "code",
      "source": [
        "doc_texts = list(qna_dataset['train']['text']) + list(news_dataset['train'][:30_000]['Article'])\n",
        "doc_questions = qna_dataset['train']['question']"
      ],
      "metadata": {
        "id": "jfxyPzrjA5md",
        "trusted": true,
        "execution": {
          "iopub.status.busy": "2025-09-10T19:02:39.492231Z",
          "iopub.execute_input": "2025-09-10T19:02:39.492599Z",
          "iopub.status.idle": "2025-09-10T19:02:39.527773Z",
          "shell.execute_reply.started": "2025-09-10T19:02:39.492577Z",
          "shell.execute_reply": "2025-09-10T19:02:39.526943Z"
        }
      },
      "outputs": [],
      "execution_count": 9
    },
    {
      "cell_type": "code",
      "source": [
        "len(doc_texts)"
      ],
      "metadata": {
        "colab": {
          "base_uri": "https://localhost:8080/"
        },
        "id": "DKCTLLpw2IxS",
        "outputId": "1004f610-88dd-4c51-b5f0-a462a5fe47a6"
      },
      "execution_count": 10,
      "outputs": [
        {
          "output_type": "execute_result",
          "data": {
            "text/plain": [
              "34037"
            ]
          },
          "metadata": {},
          "execution_count": 10
        }
      ]
    },
    {
      "cell_type": "code",
      "source": [
        "metadata = [\n",
        "    {\n",
        "        'source': row['source'],\n",
        "        \"title\": row['title']\n",
        "    }\n",
        "    for row in qna_dataset['train']\n",
        "]\n",
        "\n",
        "metadata += [\n",
        "    {\n",
        "        \"source\": \"\",\n",
        "        \"title\" : \"\"\n",
        "    }\n",
        "    for i in range(30_000)\n",
        "]"
      ],
      "metadata": {
        "id": "6LSW05hQDJOk",
        "trusted": true,
        "execution": {
          "iopub.status.busy": "2025-09-10T19:02:40.639984Z",
          "iopub.execute_input": "2025-09-10T19:02:40.640788Z",
          "iopub.status.idle": "2025-09-10T19:02:41.086024Z",
          "shell.execute_reply.started": "2025-09-10T19:02:40.640752Z",
          "shell.execute_reply": "2025-09-10T19:02:41.085207Z"
        }
      },
      "outputs": [],
      "execution_count": 11
    },
    {
      "cell_type": "code",
      "source": [
        "len(metadata)"
      ],
      "metadata": {
        "colab": {
          "base_uri": "https://localhost:8080/"
        },
        "id": "Qx4C1jo0FXCe",
        "outputId": "e8efe58b-7d5d-4ae0-bc20-4393b1c7c82c",
        "trusted": true,
        "execution": {
          "iopub.status.busy": "2025-09-10T19:02:41.087160Z",
          "iopub.execute_input": "2025-09-10T19:02:41.087441Z",
          "iopub.status.idle": "2025-09-10T19:02:41.437178Z",
          "shell.execute_reply.started": "2025-09-10T19:02:41.087399Z",
          "shell.execute_reply": "2025-09-10T19:02:41.436378Z"
        }
      },
      "outputs": [
        {
          "output_type": "execute_result",
          "data": {
            "text/plain": [
              "34037"
            ]
          },
          "metadata": {},
          "execution_count": 12
        }
      ],
      "execution_count": 12
    },
    {
      "cell_type": "markdown",
      "source": [
        "#### What is the importance of the metadata ?"
      ],
      "metadata": {
        "id": "zVgxnbh_F6qn"
      }
    },
    {
      "cell_type": "code",
      "source": [
        "doc_ids = [\n",
        "    str(i)\n",
        "    for i in range( len(doc_texts))\n",
        "]"
      ],
      "metadata": {
        "id": "_VMIBo_BFgq9",
        "trusted": true,
        "execution": {
          "iopub.status.busy": "2025-09-10T19:02:43.131162Z",
          "iopub.execute_input": "2025-09-10T19:02:43.131867Z",
          "iopub.status.idle": "2025-09-10T19:02:43.135624Z",
          "shell.execute_reply.started": "2025-09-10T19:02:43.131838Z",
          "shell.execute_reply": "2025-09-10T19:02:43.134817Z"
        }
      },
      "outputs": [],
      "execution_count": 13
    },
    {
      "cell_type": "code",
      "source": [
        "len(doc_ids)"
      ],
      "metadata": {
        "colab": {
          "base_uri": "https://localhost:8080/"
        },
        "id": "H0guwvvy200o",
        "outputId": "43c51191-8016-4305-b832-a65340a340a7"
      },
      "execution_count": 14,
      "outputs": [
        {
          "output_type": "execute_result",
          "data": {
            "text/plain": [
              "34037"
            ]
          },
          "metadata": {},
          "execution_count": 14
        }
      ]
    },
    {
      "cell_type": "markdown",
      "source": [
        "# Text To Vector"
      ],
      "metadata": {
        "id": "3GS3ZEZqHjow"
      }
    },
    {
      "cell_type": "code",
      "source": [
        "from sentence_transformers import SentenceTransformer\n",
        "\n",
        "model_id = \"sentence-transformers/distiluse-base-multilingual-cased-v2\"\n",
        "dim= 512\n",
        "\n",
        "# model_id = \"asafaya/bert-large-arabic\"\n",
        "# dim = 1024\n",
        "\n",
        "device = \"cuda:0\"\n",
        "model = SentenceTransformer(model_id, device = device)"
      ],
      "metadata": {
        "id": "5q2HOIA-G039",
        "trusted": true,
        "execution": {
          "iopub.status.busy": "2025-09-10T19:02:44.878284Z",
          "iopub.execute_input": "2025-09-10T19:02:44.878847Z",
          "iopub.status.idle": "2025-09-10T19:03:20.596181Z",
          "shell.execute_reply.started": "2025-09-10T19:02:44.878821Z",
          "shell.execute_reply": "2025-09-10T19:03:20.595591Z"
        }
      },
      "outputs": [],
      "execution_count": 15
    },
    {
      "cell_type": "code",
      "source": [
        "encoded_doc = model.encode([text for text in doc_texts] , show_progress_bar = True)"
      ],
      "metadata": {
        "id": "wzyXthFAJ_L2",
        "trusted": true,
        "execution": {
          "iopub.status.busy": "2025-09-10T19:03:20.597167Z",
          "iopub.execute_input": "2025-09-10T19:03:20.597420Z",
          "iopub.status.idle": "2025-09-10T19:03:27.482853Z",
          "shell.execute_reply.started": "2025-09-10T19:03:20.597395Z",
          "shell.execute_reply": "2025-09-10T19:03:27.482241Z"
        },
        "colab": {
          "base_uri": "https://localhost:8080/",
          "height": 49,
          "referenced_widgets": [
            "7432bc47a7984ecc97c80972f208a609",
            "60013bec556244d491d5c54f8f0f5931",
            "fb1d40506f89489795edc97e2b0112f0",
            "ddff42e3c6e64bd0919ca73a552b17bb",
            "aac47de6127a429a9425709fe5b2230c",
            "30a14d56a632437fa1eb4890c2066c6c",
            "069afd2206af477bbc1f953b4bec9b7f",
            "4415a48de04041968b99860d152b3137",
            "d833531128424ba58802b253d10c28a9",
            "c3f0151e732b48b1b73c51028b10a34d",
            "86aa489be616478aa530a40907562615"
          ]
        },
        "outputId": "db2685e1-31d7-48f7-e663-60f2e0f5c259"
      },
      "outputs": [
        {
          "output_type": "display_data",
          "data": {
            "text/plain": [
              "Batches:   0%|          | 0/1064 [00:00<?, ?it/s]"
            ],
            "application/vnd.jupyter.widget-view+json": {
              "version_major": 2,
              "version_minor": 0,
              "model_id": "7432bc47a7984ecc97c80972f208a609"
            }
          },
          "metadata": {}
        }
      ],
      "execution_count": 16
    },
    {
      "cell_type": "code",
      "source": [
        "encoded_question = model.encode([question for question in doc_questions] , show_progress_bar = True)"
      ],
      "metadata": {
        "colab": {
          "base_uri": "https://localhost:8080/",
          "height": 49,
          "referenced_widgets": [
            "fdec185da98349b4968e3a1ace769d4e",
            "a7d91ba55f3442678a719d691a44401c",
            "5bb9206f1a3d45f8a22584218f12a0dd",
            "0c9d8b8f66c244a5ae5de653103ec0cb",
            "ac9c893bcf7d4c47972809078280b252",
            "1caa51d9c5244422ae6355151417bcd2",
            "8f6cc3142a9b4ae8b75e83e501da49a2",
            "061ac317764342318d1e80eba1057103",
            "d9b8276729ba40c0bb2e4e5fd10b0db8",
            "c4d44427e30343b2b86d3dd84e6cf5bc",
            "2fff5645249149a5a2b8fb684023796b"
          ]
        },
        "id": "yKn6IfnZfIMJ",
        "outputId": "c4ac72cb-63e9-4868-8a6b-03c8026c5a76"
      },
      "execution_count": 17,
      "outputs": [
        {
          "output_type": "display_data",
          "data": {
            "text/plain": [
              "Batches:   0%|          | 0/127 [00:00<?, ?it/s]"
            ],
            "application/vnd.jupyter.widget-view+json": {
              "version_major": 2,
              "version_minor": 0,
              "model_id": "fdec185da98349b4968e3a1ace769d4e"
            }
          },
          "metadata": {}
        }
      ]
    },
    {
      "cell_type": "code",
      "source": [
        "encoded_doc.shape"
      ],
      "metadata": {
        "id": "BGR4Md6PLA58",
        "trusted": true,
        "execution": {
          "iopub.status.busy": "2025-09-10T19:03:27.483452Z",
          "iopub.execute_input": "2025-09-10T19:03:27.483627Z",
          "iopub.status.idle": "2025-09-10T19:03:27.488377Z",
          "shell.execute_reply.started": "2025-09-10T19:03:27.483613Z",
          "shell.execute_reply": "2025-09-10T19:03:27.487868Z"
        },
        "colab": {
          "base_uri": "https://localhost:8080/"
        },
        "outputId": "b17e3d03-978c-4bf3-e8b1-02a6fbbfacf4"
      },
      "outputs": [
        {
          "output_type": "execute_result",
          "data": {
            "text/plain": [
              "(34037, 512)"
            ]
          },
          "metadata": {},
          "execution_count": 18
        }
      ],
      "execution_count": 18
    },
    {
      "cell_type": "markdown",
      "source": [
        "# Vector Databases"
      ],
      "metadata": {
        "id": "H_9hx35bLiuQ"
      }
    },
    {
      "cell_type": "markdown",
      "source": [
        "### ChromaDB"
      ],
      "metadata": {
        "id": "h-iTbxfgLoWP"
      }
    },
    {
      "cell_type": "code",
      "source": [
        "import chromadb\n",
        "\n",
        "chroma_client = chromadb.PersistentClient(path= \"./chromadb-ar-docs\")"
      ],
      "metadata": {
        "id": "ccqOcshRLIzU",
        "trusted": true,
        "execution": {
          "iopub.status.busy": "2025-09-10T19:03:38.598113Z",
          "iopub.execute_input": "2025-09-10T19:03:38.598608Z",
          "iopub.status.idle": "2025-09-10T19:03:39.495214Z",
          "shell.execute_reply.started": "2025-09-10T19:03:38.598583Z",
          "shell.execute_reply": "2025-09-10T19:03:39.494470Z"
        }
      },
      "outputs": [],
      "execution_count": 19
    },
    {
      "cell_type": "code",
      "source": [
        "#Create an empty collection \"something like tables in a db\"\n",
        "collection = chroma_client.create_collection(\n",
        "    name = \"ar_docs_34k\",\n",
        "    metadata = {\"hnsw:space\" : \"cosine\"}\n",
        ")"
      ],
      "metadata": {
        "id": "MN4kubruX4Gh",
        "trusted": true,
        "execution": {
          "iopub.status.busy": "2025-09-10T19:03:42.415973Z",
          "iopub.execute_input": "2025-09-10T19:03:42.416740Z",
          "iopub.status.idle": "2025-09-10T19:03:42.433825Z",
          "shell.execute_reply.started": "2025-09-10T19:03:42.416708Z",
          "shell.execute_reply": "2025-09-10T19:03:42.432985Z"
        }
      },
      "outputs": [],
      "execution_count": 20
    },
    {
      "cell_type": "code",
      "source": [
        "collection.add(\n",
        "    documents= list(doc_texts),\n",
        "    embeddings = encoded_doc,\n",
        "    metadatas = metadata,\n",
        "    ids = doc_ids\n",
        ")"
      ],
      "metadata": {
        "id": "w9Mln1aLZav1",
        "trusted": true,
        "execution": {
          "iopub.status.busy": "2025-09-10T19:03:43.721996Z",
          "iopub.execute_input": "2025-09-10T19:03:43.722763Z",
          "iopub.status.idle": "2025-09-10T19:03:47.626188Z",
          "shell.execute_reply.started": "2025-09-10T19:03:43.722734Z",
          "shell.execute_reply": "2025-09-10T19:03:47.625584Z"
        },
        "colab": {
          "base_uri": "https://localhost:8080/",
          "height": 371
        },
        "outputId": "d5580bc5-5b99-4161-d5ca-dd5956733ce9"
      },
      "outputs": [
        {
          "output_type": "error",
          "ename": "InternalError",
          "evalue": "ValueError: Batch size of 34037 is greater than max batch size of 5461",
          "traceback": [
            "\u001b[0;31m---------------------------------------------------------------------------\u001b[0m",
            "\u001b[0;31mInternalError\u001b[0m                             Traceback (most recent call last)",
            "\u001b[0;32m/tmp/ipython-input-2949427737.py\u001b[0m in \u001b[0;36m<cell line: 0>\u001b[0;34m()\u001b[0m\n\u001b[0;32m----> 1\u001b[0;31m collection.add(\n\u001b[0m\u001b[1;32m      2\u001b[0m     \u001b[0mdocuments\u001b[0m\u001b[0;34m=\u001b[0m \u001b[0mlist\u001b[0m\u001b[0;34m(\u001b[0m\u001b[0mdoc_texts\u001b[0m\u001b[0;34m)\u001b[0m\u001b[0;34m,\u001b[0m\u001b[0;34m\u001b[0m\u001b[0;34m\u001b[0m\u001b[0m\n\u001b[1;32m      3\u001b[0m     \u001b[0membeddings\u001b[0m \u001b[0;34m=\u001b[0m \u001b[0mencoded_doc\u001b[0m\u001b[0;34m,\u001b[0m\u001b[0;34m\u001b[0m\u001b[0;34m\u001b[0m\u001b[0m\n\u001b[1;32m      4\u001b[0m     \u001b[0mmetadatas\u001b[0m \u001b[0;34m=\u001b[0m \u001b[0mmetadata\u001b[0m\u001b[0;34m,\u001b[0m\u001b[0;34m\u001b[0m\u001b[0;34m\u001b[0m\u001b[0m\n\u001b[1;32m      5\u001b[0m     \u001b[0mids\u001b[0m \u001b[0;34m=\u001b[0m \u001b[0mdoc_ids\u001b[0m\u001b[0;34m\u001b[0m\u001b[0;34m\u001b[0m\u001b[0m\n",
            "\u001b[0;32m/usr/local/lib/python3.12/dist-packages/chromadb/api/models/Collection.py\u001b[0m in \u001b[0;36madd\u001b[0;34m(self, ids, embeddings, metadatas, documents, images, uris)\u001b[0m\n\u001b[1;32m     87\u001b[0m         )\n\u001b[1;32m     88\u001b[0m \u001b[0;34m\u001b[0m\u001b[0m\n\u001b[0;32m---> 89\u001b[0;31m         self._client._add(\n\u001b[0m\u001b[1;32m     90\u001b[0m             \u001b[0mcollection_id\u001b[0m\u001b[0;34m=\u001b[0m\u001b[0mself\u001b[0m\u001b[0;34m.\u001b[0m\u001b[0mid\u001b[0m\u001b[0;34m,\u001b[0m\u001b[0;34m\u001b[0m\u001b[0;34m\u001b[0m\u001b[0m\n\u001b[1;32m     91\u001b[0m             \u001b[0mids\u001b[0m\u001b[0;34m=\u001b[0m\u001b[0madd_request\u001b[0m\u001b[0;34m[\u001b[0m\u001b[0;34m\"ids\"\u001b[0m\u001b[0;34m]\u001b[0m\u001b[0;34m,\u001b[0m\u001b[0;34m\u001b[0m\u001b[0;34m\u001b[0m\u001b[0m\n",
            "\u001b[0;32m/usr/local/lib/python3.12/dist-packages/chromadb/api/rust.py\u001b[0m in \u001b[0;36m_add\u001b[0;34m(self, ids, collection_id, embeddings, metadatas, documents, uris, tenant, database)\u001b[0m\n\u001b[1;32m    405\u001b[0m         )\n\u001b[1;32m    406\u001b[0m \u001b[0;34m\u001b[0m\u001b[0m\n\u001b[0;32m--> 407\u001b[0;31m         return self.bindings.add(\n\u001b[0m\u001b[1;32m    408\u001b[0m             \u001b[0mids\u001b[0m\u001b[0;34m,\u001b[0m\u001b[0;34m\u001b[0m\u001b[0;34m\u001b[0m\u001b[0m\n\u001b[1;32m    409\u001b[0m             \u001b[0mstr\u001b[0m\u001b[0;34m(\u001b[0m\u001b[0mcollection_id\u001b[0m\u001b[0;34m)\u001b[0m\u001b[0;34m,\u001b[0m\u001b[0;34m\u001b[0m\u001b[0;34m\u001b[0m\u001b[0m\n",
            "\u001b[0;31mInternalError\u001b[0m: ValueError: Batch size of 34037 is greater than max batch size of 5461"
          ]
        }
      ],
      "execution_count": 22
    },
    {
      "cell_type": "code",
      "source": [
        "batch_size = 5000\n",
        "for i in range(0 , len(doc_texts) , batch_size):\n",
        "\n",
        "  collection.add(\n",
        "      documents= doc_texts[i:i+batch_size],\n",
        "      embeddings = encoded_doc[i:i+batch_size],\n",
        "      metadatas = metadata[i:i+batch_size],\n",
        "      ids = doc_ids[i:i+batch_size]\n",
        "  )"
      ],
      "metadata": {
        "id": "TypAxIq04gwR"
      },
      "execution_count": 24,
      "outputs": []
    },
    {
      "cell_type": "markdown",
      "source": [
        "# Search in ChromaDB"
      ],
      "metadata": {
        "id": "vPhsP-aWbBbr"
      }
    },
    {
      "cell_type": "code",
      "source": [
        "question = \"ما الذي يمكن أن يسبب انسداد الشعب الهوائية المزمن؟\"\n",
        "\n",
        "question_embed = model.encode(question)\n",
        "\n",
        "results = collection.query(\n",
        "    query_embeddings = question_embed.tolist(),\n",
        "    n_results = 3\n",
        ")"
      ],
      "metadata": {
        "id": "kfP4la9KaS7S",
        "trusted": true,
        "execution": {
          "iopub.status.busy": "2025-09-10T19:03:47.627631Z",
          "iopub.execute_input": "2025-09-10T19:03:47.627818Z",
          "iopub.status.idle": "2025-09-10T19:03:47.658227Z",
          "shell.execute_reply.started": "2025-09-10T19:03:47.627803Z",
          "shell.execute_reply": "2025-09-10T19:03:47.657567Z"
        }
      },
      "outputs": [],
      "execution_count": 25
    },
    {
      "cell_type": "code",
      "source": [
        "results"
      ],
      "metadata": {
        "id": "TcLV7sDyb736",
        "trusted": true,
        "execution": {
          "iopub.status.busy": "2025-09-10T19:03:50.357094Z",
          "iopub.execute_input": "2025-09-10T19:03:50.357367Z",
          "iopub.status.idle": "2025-09-10T19:03:50.362726Z",
          "shell.execute_reply.started": "2025-09-10T19:03:50.357347Z",
          "shell.execute_reply": "2025-09-10T19:03:50.361982Z"
        },
        "colab": {
          "base_uri": "https://localhost:8080/"
        },
        "outputId": "7700fc57-d47f-42c6-9d74-617eaa4d1139"
      },
      "outputs": [
        {
          "output_type": "execute_result",
          "data": {
            "text/plain": [
              "{'ids': [['19847', '10033', '28779']],\n",
              " 'embeddings': None,\n",
              " 'documents': [['يعاني كثير من الناس من رائحة الفم الكريهة، وخاصة بعد الاستيقاظ من النوم، فما هو سبب ذلك؟ وكيف يمكن للإنسان أن يتخلص من هذه الرائحة دون أي مشاكل؟\\nرائحة الفم الكريهة ليست مضرة صحيا، ولكنها مزعجة للإنسان وأحيانا لمن حوله. ويعود سببها إلى أن الغدد اللعابية لا تنتج الكثير من اللعاب في الليل وأثناء النوم، وبذلك يصبح الفم جافا. وتتكاثر بعض أنواع البكتيريا في هذا الوقت في الفم، وتنتج الكثير من الفضلات التي تحمل هذه الرائحة الكريهة.\\nوهذه بعض النصائح للتغلب على رائحة الفم الكريهة:\\n1· تنظيف الأسنان مرتين يوميا على الأقل، وخاصة قبل النوم.\\n2· تنظيف اللسان بالفرشاة، لإزالة البكتيريا منه.\\n3· وينصح في الحالات المستعصية بتجنب تناول الأطعمة المحفزة للبكتيريا، أو التي رائحتها قوية كالبصل والثوم.\\n4· تجنب أكل الحلوى المليئة بالسكر بعد الأكل في الليل، لأنها تساهم في نمو البكتيريا.\\n5· تناول علكة خالية من السكر قبل النوم، لأنها تحفز عمل الغدد اللعابية.\\n6· معالجة أمراض اللثة، وذلك أن البكتيريا تتراكم في المناطق الملتهبة في اللثة.',\n",
              "   'يمكن ان تنتهي مشكلة الشخير بلصقة توضع تحت الحنك أثناء النوم. وجرى تطوير اللصقة لمعالجة انقطاع التنفس أثناء النوم بسبب انغلاق المجاري الهوائية نتيجة انبساط العضلات في الحنجرة وبذلك قطع التنفس.\\nيعاني عشرات الملايين في أنحاء العالم من مشكلة الشخير بينهم 3 ملايين في بريطانيا وحدها. وتحوي اللصقة التكنولوجية المتطورة مرسِلة تعمل ببطارية وظيفتها نقل إشارات كهربائية الى جهاز صغير لا يزيد طوله على عود الكبريت مزروع تحت اللسان.\\nوتنقل هذه الاشارت الى الجهاز المزروع تعليمات بتنشيط العصب تحت اللساني المسؤول عن تفعيل العضلات المحيطة بالحنجرة. ويسبب تنشيطه انقباض العضلات وسحبها اللسان الى الأمام وبذلك فتح المجاري الهوائية.\\nوالمعروف أننا عندما ننام تنبسط العضلات الموجودة في حنجرتنا. ولا يشكل هذا مشكلة لغالبية الأشخاص وتبقى المجاري الهوائية مفتوحة جزئيا. ولكن انقطاع التنفس اثناء النوم لمدة 10 ثوان على الأقل يسبب اهتزاز الهواء حين يصطدم بالنسيج الناعم الذي يمنع مروره مؤديا الى صوت الشخير\\nوحين يدرك المخ ان عملية التنفس توقفت يرسل اشارة الى عضلات الحنجرة يأمرها بالعودة الى الانقباض متسببة في استيقاظ النائم جافلا. وإذا تُرك انقطاع التنفس أثناء النوم بدون علاج فانه يمكن ان يزيد احتمالات الاصابة بارتفاع ضغط الدم والنوبات القلبية. ومن اسباب الخطر الأخرى زيادة الوزن لأن الشحوم المتراكمة حول الرقبة يمكن ان تضغط على العضلات المنبسطة متسببة في غلق المجاري الهوائية.\\nونالت فكرة تنشيط العضلة تحت اللسانية اهتماما كبيرا في السنوات الأخيرة. ويتطلب زرع المنشط تحت اللسان جراحة تستغرق ثلاث ساعات وربطه بمولِّد كهربائي في الصدر. ولكن جهاز التنشيط الجديد لا يستغرق زرعه تحت اللسان سوى 15 دقيقة باستخدام مخدر موضعي. ويكون المولِّد داخل رقعة مصممة خصيصا بحجم ورقة الكوتشينة تلصق تحت الحنك. وبالضغط على زر داخل اللصقة يرسل المولد لاسلكيا اشارة الى جهاز التنشيط المزروع تحت اللسان. ورغم ان المريض يضع لصقة جديدة كل ليلة (عمر البطارية نحو عشر ساعات) فان من المتوقع ان يستمر المنشط المزروع 12 سنة. ولكن بعض الأجهزة المنشطة تحتاج الى تغيير بعد خمس سنوات.\\xa0\\nوكالات',\n",
              "   'يخشى الكثيرون من مرحلة الشيخوخة، لأنها ترتبط بكثير من الأمراض. لكن الخوف من الشيخوخة قد يصبح من الماضي بفضل التجارب التي يجريها العلماء على الديدان مؤخرا الإطالة عمرها، وهو ما قد يساعد على تأخير الشيخوخة لدى الإنسان.\\nلماذا يشيخ البشر؟ لماذا تترك الأعوام آثارها على أجسادنا؟ لماذ يترهل جلدنا ويفقد دماغنا مرونته بتعاقب السنين؟ لازالت هذه الأسئلة تشغل الكثير من الباحثين، من بينهم باحثون أمريكيون أجروا دراسة على أشخاص بعمر ثمانية وثلاثين عاما حسب تاريخ الميلاد، لكن الفحص السريري لعمل الكلى والرئتين والكبد وقيم الكولسترول في الدم أظهر أن عمرَهم البيولوجي يتراوح بين الثامنة والعشرين والحادية والستين، ما يعني أن تاريخ الميلاد ليس وحدُه مقياسَ العمر.\\nوفي معهد ماكس بلانك لبيولوجيا الشيخوخة في كولونيا، تمكن بعض العلماء من الحصول على أحد هذه الأجوبة، وذلك من خلال تجارب أجروها على كائن حي لا يخطر على بال أحد.\\nإذ أجروا تجارب على دودة الربداء الاسطوانية الرشيقة، ولعل أهم ما يميز هذه الدودة هو أن طولها لا يتجاوز مليمتراً واحداً، ودورة حياتها تستغرق ثلاثة أسابيع فقط. وأراد الباحثان أدام أنتيبي ومارتين دينتزل من خلال تجاربهم الوصول إلى هدف محدد وهو إطالة عمر الإنسان من خلال تحسين صحة كبار السن على حد اعتبار الباحث آدام أنتيبي.\\nلذلك استخدم العلماء الديدان في تجاربهم!\\n\\xa0\\nوفي تصريحه لـ DW عبر برنامج صحتك بين يديك، أكد الباحث أنتيبي أن قصر دورة الحياة يساعد كثيرا على مراقبة التطورات التي تطرأ عليها بسهولة، فدورة حياتها لا تستغرق سوى أسابيع قليلة، فضلا عن أن نصف جينات دودة الربداء الاسطوانية الرشيقة مشابهة لجينات الإنسان.\\nوتتمتع هذه الديدان بأعضاء داخلية ودماغ وأمعاء، ما يجعل مراقبة تطور الشيخوخة لديها أمراً مهماً للإنسان. وخاصة أن الكثير من الأمراض البشرية تم فهم أسبابها من خلال تجارب أجريت على هذا النوع من الديدان. ومن بينها عملية تأثير الإنسولين على التطورات الخلوية، وهو أمر مهم جدا لفهم أمراض السكري مثلا.\\nوأثناء الدراسة اكتشف العالمان أن بعض الديدان تعيش أطول من قريناتها. ولعل أهم ما يميز هذه الديدان عن غيرها، هو أنها تحمل جينات متحوّلة كما أن تركيز السكر الأميني والغلوكوزامين عال لديها. ما دفع العلماء إلى إضافة الغلوكوزامين لغذاء بعض الديدان، وتبين أن إضافة هذه المادة أطال عمر الديدان لبضعة أيام، حتى في غياب الجينات المتحولة.\\nالغلوكوزامين ودوره في تأخير الشيخوخة\\nولفهم كيفية تأثير الغلوكوزامين على الأمراض التي تصيب الإنسان، قام العلماء بحقن الديدان بأمراض تصيب الإنسان. من بينها جين يؤدي المرض لترسيب البروتين في الخلايا العصبية ما يؤدي للإصابة بمرض الزهايمر. وأظهرت نتائج التجربة أن إضافة الغولوكوزامين يجعل الديدان أكثر نشاطا.\\nوالنتيجة أن تعذية لا تضم الغولوكوزامين تؤدي لتصلّب الديدان ذات الجينات المتحولة، أما إضافته فيجعلها نشيطة. يواصل العلماء أبحاثهم حاليا للتوصل إلى إجابة فيما إذا كان السكر الأميني سيبطئ الشيخوخة لدى الإنسان أيضا.\\nوإلى حين التوصل إلى نتائج مثبتة، يؤكد الدكتور أسامة الأبيض أخصائي الأمراض الباطنية والقلب في برلين في حديث له مع قناة DW عربية،على أن عامل الوراثة له دور أساسي في تحديد العمر البيولوجي، مشيرا إلى أن الإصابة بأمراض مثل السكري والكوليسترول تسرع عملية الشيخوخة، ويشرح ذلك بقوله \"هذه الأمراض تؤدي إلى سدّ الشرايين التي تغذي الأعضاء الداخلية، ما يؤدي إلى حدوث خلل في الدورة الدموية، وهو ما يؤثر سلبا على عملية تجدد الخلايا\".\\nويرى الأبيض أن أفضل وسيلة لتأخير الشيخوخة تكون بالعيش بطريقة صحية من خلال تناول الأغذية المفيدة وممارسة الرياضة والابتعاد عن العادات السيئة كالتدخين، علما أن العيش في مدن كبيرة تكثر فيها الملوثات يؤثرعلى عملية تجدد الخلايا ما يسرع الشيخوخة أيضا.']],\n",
              " 'uris': None,\n",
              " 'included': ['metadatas', 'documents', 'distances'],\n",
              " 'data': None,\n",
              " 'metadatas': [[{'source': '', 'title': ''},\n",
              "   {'source': '', 'title': ''},\n",
              "   {'source': '', 'title': ''}]],\n",
              " 'distances': [[0.5939814448356628, 0.6571263074874878, 0.6739951372146606]]}"
            ]
          },
          "metadata": {},
          "execution_count": 26
        }
      ],
      "execution_count": 26
    },
    {
      "cell_type": "markdown",
      "source": [
        "# FAISS"
      ],
      "metadata": {
        "id": "cksfESfx-8GG"
      }
    },
    {
      "cell_type": "code",
      "source": [
        "import faiss\n",
        "import numpy as np\n",
        "from copy import deepcopy"
      ],
      "metadata": {
        "id": "tTKgRDWTcCs3",
        "trusted": true,
        "execution": {
          "iopub.status.busy": "2025-09-10T19:06:34.009752Z",
          "iopub.execute_input": "2025-09-10T19:06:34.010047Z",
          "iopub.status.idle": "2025-09-10T19:06:34.044184Z",
          "shell.execute_reply.started": "2025-09-10T19:06:34.010025Z",
          "shell.execute_reply": "2025-09-10T19:06:34.043685Z"
        }
      },
      "outputs": [],
      "execution_count": 27
    },
    {
      "cell_type": "code",
      "source": [
        "norm_encoded_docs = deepcopy(encoded_doc)\n",
        "faiss.normalize_L2(norm_encoded_docs)"
      ],
      "metadata": {
        "trusted": true,
        "execution": {
          "iopub.status.busy": "2025-09-10T19:34:12.059638Z",
          "iopub.execute_input": "2025-09-10T19:34:12.059906Z",
          "iopub.status.idle": "2025-09-10T19:34:12.066373Z",
          "shell.execute_reply.started": "2025-09-10T19:34:12.059888Z",
          "shell.execute_reply": "2025-09-10T19:34:12.065465Z"
        },
        "id": "kIbMHvqfLuPa"
      },
      "outputs": [],
      "execution_count": 28
    },
    {
      "cell_type": "code",
      "source": [
        "faiss_index = faiss.IndexIDMap(faiss.IndexFlatIP(dim))"
      ],
      "metadata": {
        "trusted": true,
        "execution": {
          "iopub.status.busy": "2025-09-10T19:48:05.045729Z",
          "iopub.execute_input": "2025-09-10T19:48:05.045991Z",
          "iopub.status.idle": "2025-09-10T19:48:05.049829Z",
          "shell.execute_reply.started": "2025-09-10T19:48:05.045972Z",
          "shell.execute_reply": "2025-09-10T19:48:05.049055Z"
        },
        "id": "zeb923D3LuPa"
      },
      "outputs": [],
      "execution_count": 29
    },
    {
      "cell_type": "code",
      "source": [
        "faiss_index.add_with_ids(norm_encoded_docs , np.array(doc_ids , dtype = 'int64'))"
      ],
      "metadata": {
        "trusted": true,
        "execution": {
          "iopub.status.busy": "2025-09-10T19:48:17.402026Z",
          "iopub.execute_input": "2025-09-10T19:48:17.402542Z",
          "iopub.status.idle": "2025-09-10T19:48:17.426472Z",
          "shell.execute_reply.started": "2025-09-10T19:48:17.402512Z",
          "shell.execute_reply": "2025-09-10T19:48:17.425481Z"
        },
        "id": "oIsmlZMgLuPa"
      },
      "outputs": [],
      "execution_count": 30
    },
    {
      "cell_type": "code",
      "source": [
        "question = \"ما الذي يمكن أن يسبب انسداد الشعب الهوائية المزمن؟\"\n",
        "\n",
        "question_embed = model.encode([question])\n",
        "\n",
        "faiss.normalize_L2(question_embed)\n",
        "\n",
        "results = faiss_index.search(question_embed , 3)"
      ],
      "metadata": {
        "trusted": true,
        "id": "PXcA_WwTLuPa"
      },
      "outputs": [],
      "execution_count": 31
    },
    {
      "cell_type": "code",
      "source": [
        "results"
      ],
      "metadata": {
        "colab": {
          "base_uri": "https://localhost:8080/"
        },
        "id": "cfudegprNdRW",
        "outputId": "7f3f61ef-54be-4094-d6e0-e4a78fa047a4"
      },
      "execution_count": 32,
      "outputs": [
        {
          "output_type": "execute_result",
          "data": {
            "text/plain": [
              "(array([[0.40601844, 0.3428736 , 0.3260048 ]], dtype=float32),\n",
              " array([[19847, 10033, 28779]]))"
            ]
          },
          "metadata": {},
          "execution_count": 32
        }
      ]
    },
    {
      "cell_type": "code",
      "source": [
        "doc_texts[2902]"
      ],
      "metadata": {
        "colab": {
          "base_uri": "https://localhost:8080/",
          "height": 54
        },
        "id": "TmxIXVU8NjWJ",
        "outputId": "89cd2553-4f39-4259-fbe3-aac286429106"
      },
      "execution_count": 24,
      "outputs": [
        {
          "output_type": "execute_result",
          "data": {
            "text/plain": [
              "'تعرّض الشعب الهوائية لعدة سنوات لمواد مـُهيـِّجة كدخان التبغ والتلوّث الصناعي يسبب انسداد الشعب الهوائية المزمن. 95% من المصابين بمرض الانسداد الرئوي المزمن هم من المدخنون وغالباً قاموا بالتدخين يومياً وبأكثر من 45 سنة، وعموما يتطور بعد 950 سنة-علبة pack-year (سنة-علبة تقابل تدخين 62 علبة سجائر يوميا لمدة أسبوع).'"
            ],
            "application/vnd.google.colaboratory.intrinsic+json": {
              "type": "string"
            }
          },
          "metadata": {},
          "execution_count": 24
        }
      ]
    },
    {
      "cell_type": "code",
      "source": [
        "#Save\n",
        "import pickle\n",
        "\n",
        "with open(\"./faiss-ar-docs/index.pickle\",\"wb\") as handle:\n",
        "  pickle.dump(faiss_index,handle , protocol=pickle.HIGHEST_PROTOCOL)\n",
        "\n",
        "with open(\"./faiss-ar-docs/data.pickle\",\"wb\") as handle:\n",
        "  pickle.dump({\n",
        "      \"data\": doc_texts,\n",
        "      \"metadata\": metadata,\n",
        "      \"doc_ids\": doc_ids\n",
        "  },handle , protocol=pickle.HIGHEST_PROTOCOL)"
      ],
      "metadata": {
        "id": "rpAiO3skN2oL"
      },
      "execution_count": 25,
      "outputs": []
    },
    {
      "cell_type": "code",
      "source": [
        "#Load\n",
        "with open(\"./faiss-ar-docs/index.pickle\",\"rb\") as handle:\n",
        "  faiss_index_loaded = pickle.load(handle)\n",
        "\n",
        "with open(\"./faiss-ar-docs/data.pickle\",\"rb\") as handle:\n",
        "  faiss_data_loaded = pickle.load(handle)"
      ],
      "metadata": {
        "id": "Nmt3p7oGPWe3"
      },
      "execution_count": 26,
      "outputs": []
    },
    {
      "cell_type": "markdown",
      "source": [
        "# Let`s Compare"
      ],
      "metadata": {
        "id": "2vqKe5wodzFU"
      }
    },
    {
      "cell_type": "markdown",
      "source": [
        "## Retrieving Speed"
      ],
      "metadata": {
        "id": "CVdIWI_ed18x"
      }
    },
    {
      "cell_type": "code",
      "source": [
        "import time"
      ],
      "metadata": {
        "id": "pQSHBBJvPvqn"
      },
      "execution_count": 33,
      "outputs": []
    },
    {
      "cell_type": "markdown",
      "source": [
        "**Dim: 512**\n",
        "\n",
        "----------\n",
        "`ChromaDB`: 4037 -\n",
        "6.577300059000002\n",
        "\n",
        "`FAISS`: FAISS 4037 -\n",
        "1.5460745049999929\n",
        "\n",
        "**Dim: 1024**\n",
        "\n",
        "----------\n",
        "`ChromaDB`: 4037 -\n",
        "8.025089132999994\n",
        "\n",
        "`FAISS`: FAISS 4037 -\n",
        "3.2358811000000003"
      ],
      "metadata": {
        "id": "4mqI9q7Ns6zv"
      }
    },
    {
      "cell_type": "code",
      "source": [
        "t0 = time.process_time()\n",
        "\n",
        "for i in range(len(encoded_question)):\n",
        "\n",
        "  question = encoded_question[i]\n",
        "\n",
        "  results = collection.query(\n",
        "      query_embeddings = question.tolist(),\n",
        "      n_results = 3\n",
        "  )\n",
        "\n",
        "print(\"ChromaDB\",len(encoded_question))\n",
        "print(time.process_time() - t0)"
      ],
      "metadata": {
        "colab": {
          "base_uri": "https://localhost:8080/"
        },
        "id": "ZuaU1WNogGTN",
        "outputId": "54ab3e4b-4659-436c-d546-42c1da8ffaf7"
      },
      "execution_count": 34,
      "outputs": [
        {
          "output_type": "stream",
          "name": "stdout",
          "text": [
            "ChromaDB 4037\n",
            "8.77370983100002\n"
          ]
        }
      ]
    },
    {
      "cell_type": "code",
      "source": [
        "t0 = time.process_time()\n",
        "\n",
        "for i in range(len(encoded_question)):\n",
        "\n",
        "  question = encoded_question[i].reshape(1,dim)\n",
        "  faiss.normalize_L2(question)\n",
        "\n",
        "  results = faiss_index.search(question , 3)\n",
        "\n",
        "print(\"FAISS\" , len(encoded_question))\n",
        "print(time.process_time() - t0)"
      ],
      "metadata": {
        "colab": {
          "base_uri": "https://localhost:8080/"
        },
        "id": "Uv25lwR6gk0R",
        "outputId": "3d9bf5dc-d39c-474f-bda9-0e75f44b523d"
      },
      "execution_count": 35,
      "outputs": [
        {
          "output_type": "stream",
          "name": "stdout",
          "text": [
            "FAISS 4037\n",
            "21.248423757000012\n"
          ]
        }
      ]
    },
    {
      "cell_type": "markdown",
      "source": [
        "## Accuracy"
      ],
      "metadata": {
        "id": "wxY4FJItivio"
      }
    },
    {
      "cell_type": "markdown",
      "source": [
        "`ChromaDB`:\n",
        "Model ID sentence-transformers/distiluse-base-multilingual-cased-v2\n",
        "-----\n",
        "Valid: 1349\n",
        "Valid%: 0.33415902898191724\n",
        "-----\n",
        "Similar: 962\n",
        "Similar%: 0.23829576418132276\n",
        "-----\n",
        "Invalid: 1726\n",
        "Invalid%: 0.42754520683675995\n",
        "-----\n",
        "-------------------\n",
        "\n",
        "Model ID asafaya/bert-large-arabic\n",
        "-----\n",
        "Valid: 714\n",
        "Valid%: 0.17686400792667822\n",
        "-----\n",
        "Similar: 490\n",
        "Similar%: 0.121377260341838\n",
        "-----\n",
        "Invalid: 2833\n",
        "Invalid%: 0.7017587317314837\n",
        "-----"
      ],
      "metadata": {
        "id": "2Z2TydA6t3ET"
      }
    },
    {
      "cell_type": "markdown",
      "source": [
        "`FAISS`: Model ID sentence-transformers/distiluse-base-multilingual-cased-v2\n",
        "-----\n",
        "Valid: 1360\n",
        "Valid%: 0.33688382462224425\n",
        "-----\n",
        "Similar: 961\n",
        "Similar%: 0.2380480554867476\n",
        "-----\n",
        "Invalid: 1716\n",
        "Invalid%: 0.4250681198910082\n",
        "-----\n",
        "--------------\n",
        "Model ID asafaya/bert-large-arabic\n",
        "-----\n",
        "Valid: 707\n",
        "Valid%: 0.17513004706465196\n",
        "-----\n",
        "Similar: 514\n",
        "Similar%: 0.12732226901164231\n",
        "-----\n",
        "Invalid: 2816\n",
        "Invalid%: 0.6975476839237057\n",
        "-----"
      ],
      "metadata": {
        "id": "ESFc6-yIt7lE"
      }
    },
    {
      "cell_type": "code",
      "source": [
        "chroma_results = []\n",
        "\n",
        "for i in range(len(encoded_question)):\n",
        "\n",
        "  question = encoded_question[i]\n",
        "\n",
        "  results = collection.query(\n",
        "      query_embeddings = question.tolist(),\n",
        "      n_results = 3\n",
        "  )\n",
        "\n",
        "  chroma_results.append(results)"
      ],
      "metadata": {
        "id": "uKvzgcYIh3mp"
      },
      "execution_count": 36,
      "outputs": []
    },
    {
      "cell_type": "code",
      "source": [
        "chroma_insights = {\n",
        "    \"valid\":0,\n",
        "    \"similar\":0,\n",
        "    \"invalid\":0\n",
        "}\n",
        "\n",
        "for i in range(len(doc_questions)):\n",
        "  true_id = doc_ids[i]\n",
        "  pred_id = chroma_results[i]['ids'][0][0]\n",
        "\n",
        "  true_source = metadata[i]['source']\n",
        "  pred_source = metadata[int(pred_id)]['source']\n",
        "\n",
        "  if str(true_id) == str(pred_id):\n",
        "    chroma_insights['valid'] +=1\n",
        "\n",
        "  elif true_source == pred_source:\n",
        "    chroma_insights['similar'] +=1\n",
        "\n",
        "  else:\n",
        "    chroma_insights['invalid'] += 1\n",
        "\n",
        "chroma_insights['valid_percentage'] = chroma_insights['valid'] / len(doc_questions)\n",
        "chroma_insights['similar_percentage'] = chroma_insights['similar'] / len(doc_questions)\n",
        "chroma_insights['invalid_percentage'] = chroma_insights['invalid'] / len(doc_questions)\n",
        "\n",
        "print(\"Model ID\", model_id)\n",
        "print(\"-\"*5)\n",
        "print(\"Valid:\",chroma_insights['valid'])\n",
        "print(\"Valid%:\",chroma_insights['valid_percentage'])\n",
        "print(\"-\"*5)\n",
        "print(\"Similar:\",chroma_insights[\"similar\"])\n",
        "print(\"Similar%:\",chroma_insights[\"similar_percentage\"])\n",
        "print(\"-\"*5)\n",
        "print(\"Invalid:\",chroma_insights[\"invalid\"])\n",
        "print(\"Invalid%:\",chroma_insights[\"invalid_percentage\"])\n",
        "print(\"-\"*5)"
      ],
      "metadata": {
        "colab": {
          "base_uri": "https://localhost:8080/"
        },
        "id": "79kne4kClDc3",
        "outputId": "1b64927b-c5eb-4c9a-a2a5-916989fa9121"
      },
      "execution_count": 37,
      "outputs": [
        {
          "output_type": "stream",
          "name": "stdout",
          "text": [
            "Model ID sentence-transformers/distiluse-base-multilingual-cased-v2\n",
            "-----\n",
            "Valid: 986\n",
            "Valid%: 0.24424077285112708\n",
            "-----\n",
            "Similar: 689\n",
            "Similar%: 0.17067129056229874\n",
            "-----\n",
            "Invalid: 2362\n",
            "Invalid%: 0.5850879365865742\n",
            "-----\n"
          ]
        }
      ]
    },
    {
      "cell_type": "code",
      "source": [
        "faiss_results = []\n",
        "\n",
        "for i in range(len(encoded_question)):\n",
        "\n",
        "  question = encoded_question[i].reshape(1,dim)\n",
        "  faiss.normalize_L2(question)\n",
        "\n",
        "  score , id = faiss_index.search(question , 3)\n",
        "\n",
        "  faiss_results.append({\n",
        "      \"scores\" : score,\n",
        "      \"ids\" : id\n",
        "  })"
      ],
      "metadata": {
        "id": "HRtg9mK8j1OI"
      },
      "execution_count": 38,
      "outputs": []
    },
    {
      "cell_type": "code",
      "source": [
        "faiss_insights = {\n",
        "    \"valid\":0,\n",
        "    \"similar\":0,\n",
        "    \"invalid\":0\n",
        "}\n",
        "\n",
        "for i in range(len(doc_questions)):\n",
        "  true_id = doc_ids[i]\n",
        "  pred_id = faiss_results[i]['ids'][0][0]\n",
        "\n",
        "  true_source = metadata[i]['source']\n",
        "  pred_source = metadata[int(pred_id)]['source']\n",
        "\n",
        "  if str(true_id) == str(pred_id):\n",
        "    faiss_insights['valid'] +=1\n",
        "\n",
        "  elif true_source == pred_source:\n",
        "    faiss_insights['similar'] +=1\n",
        "\n",
        "  else:\n",
        "    faiss_insights['invalid'] += 1\n",
        "\n",
        "faiss_insights['valid_percentage'] = faiss_insights['valid'] / len(doc_questions)\n",
        "faiss_insights['similar_percentage'] = faiss_insights['similar'] / len(doc_questions)\n",
        "faiss_insights['invalid_percentage'] = faiss_insights['invalid'] / len(doc_questions)\n",
        "\n",
        "print(\"Model ID\", model_id)\n",
        "print(\"-\"*5)\n",
        "print(\"Valid:\",faiss_insights['valid'])\n",
        "print(\"Valid%:\",faiss_insights['valid_percentage'])\n",
        "print(\"-\"*5)\n",
        "print(\"Similar:\",faiss_insights[\"similar\"])\n",
        "print(\"Similar%:\",faiss_insights[\"similar_percentage\"])\n",
        "print(\"-\"*5)\n",
        "print(\"Invalid:\",faiss_insights[\"invalid\"])\n",
        "print(\"Invalid%:\",faiss_insights[\"invalid_percentage\"])\n",
        "print(\"-\"*5)"
      ],
      "metadata": {
        "colab": {
          "base_uri": "https://localhost:8080/"
        },
        "id": "9XcGoFzrkOe7",
        "outputId": "4f8753b2-96d9-4bfd-b05c-c296b5c76319"
      },
      "execution_count": 39,
      "outputs": [
        {
          "output_type": "stream",
          "name": "stdout",
          "text": [
            "Model ID sentence-transformers/distiluse-base-multilingual-cased-v2\n",
            "-----\n",
            "Valid: 967\n",
            "Valid%: 0.23953430765419867\n",
            "-----\n",
            "Similar: 698\n",
            "Similar%: 0.17290066881347535\n",
            "-----\n",
            "Invalid: 2372\n",
            "Invalid%: 0.587565023532326\n",
            "-----\n"
          ]
        }
      ]
    },
    {
      "cell_type": "code",
      "source": [],
      "metadata": {
        "id": "bXwXw6t0ptF4"
      },
      "execution_count": null,
      "outputs": []
    }
  ]
}