{
 "cells": [
  {
   "cell_type": "code",
   "execution_count": 1,
   "id": "f642ede3",
   "metadata": {
    "ExecuteTime": {
     "end_time": "2024-02-11T21:54:47.828189Z",
     "start_time": "2024-02-11T21:54:43.740024Z"
    }
   },
   "outputs": [],
   "source": [
    "import cv2\n",
    "import mediapipe as mp\n",
    "import time"
   ]
  },
  {
   "cell_type": "code",
   "execution_count": 2,
   "id": "0a62045b",
   "metadata": {
    "ExecuteTime": {
     "end_time": "2024-02-11T21:55:37.489461Z",
     "start_time": "2024-02-11T21:54:47.829191Z"
    }
   },
   "outputs": [],
   "source": [
    "import cv2\n",
    "import mediapipe as mp\n",
    "\n",
    "# Face Mesh Detection\n",
    "mp_face_mesh = mp.solutions.face_mesh\n",
    "mp_drawing = mp.solutions.drawing_utils\n",
    "\n",
    "drawing_spec = mp_drawing.DrawingSpec(thickness=1, circle_radius=1)\n",
    "\n",
    "# Define face connections manually\n",
    "FACE_CONNECTIONS = mp_face_mesh.FACEMESH_TESSELATION\n",
    "\n",
    "cap = cv2.VideoCapture(0)\n",
    "\n",
    "with mp_face_mesh.FaceMesh(\n",
    "    min_detection_confidence=0.5,\n",
    "    min_tracking_confidence=0.5) as face_mesh:\n",
    "\n",
    "    while cap.isOpened():\n",
    "        success, image = cap.read()\n",
    "        \n",
    "        start = time.time()\n",
    "\n",
    "        # Flip the image horizontally for a later selfie-view display\n",
    "        image = cv2.cvtColor(cv2.flip(image, 1), cv2.COLOR_BGR2RGB)\n",
    "\n",
    "        # To improve performance, optionally mark the image as not writeable to\n",
    "        # pass by reference\n",
    "        image.flags.writeable = False\n",
    "\n",
    "        # Process the image\n",
    "        results = face_mesh.process(image)\n",
    "\n",
    "        image.flags.writeable = True\n",
    "\n",
    "        # Convert the image color back so it can be displayed\n",
    "        image = cv2.cvtColor(image, cv2.COLOR_RGB2BGR)\n",
    "\n",
    "        if results.multi_face_landmarks:\n",
    "            for face_landmarks in results.multi_face_landmarks:\n",
    "                mp_drawing.draw_landmarks(image, landmark_list=face_landmarks,\n",
    "                                          connections=FACE_CONNECTIONS,\n",
    "                                          landmark_drawing_spec=drawing_spec,\n",
    "                                          connection_drawing_spec=drawing_spec)\n",
    "                \n",
    "        \n",
    "        end = time.time()\n",
    "        \n",
    "        total_time= end - start\n",
    "        \n",
    "        fps = 1 / total_time\n",
    "        \n",
    "        cv2.putText(image , f\"FPS: {int(fps)}\", (20,70) , cv2.FONT_HERSHEY_SIMPLEX,1.5 , (0,255,0),2)\n",
    "\n",
    "        cv2.imshow(\"Face Mesh Detection\", image)\n",
    "\n",
    "        if cv2.waitKey(5) & 0xFF == 27:\n",
    "            break\n",
    "\n",
    "cap.release()\n",
    "cv2.destroyAllWindows()"
   ]
  }
 ],
 "metadata": {
  "kernelspec": {
   "display_name": "Python 3 (ipykernel)",
   "language": "python",
   "name": "python3"
  },
  "language_info": {
   "codemirror_mode": {
    "name": "ipython",
    "version": 3
   },
   "file_extension": ".py",
   "mimetype": "text/x-python",
   "name": "python",
   "nbconvert_exporter": "python",
   "pygments_lexer": "ipython3",
   "version": "3.9.12"
  }
 },
 "nbformat": 4,
 "nbformat_minor": 5
}
