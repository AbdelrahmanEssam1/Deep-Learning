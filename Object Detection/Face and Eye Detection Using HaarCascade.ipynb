{
 "cells": [
  {
   "cell_type": "code",
   "execution_count": 1,
   "id": "3c5739b7",
   "metadata": {
    "ExecuteTime": {
     "end_time": "2024-02-07T21:35:50.434806Z",
     "start_time": "2024-02-07T21:35:42.782091Z"
    }
   },
   "outputs": [],
   "source": [
    "#Face Detection\n",
    "import cv2\n",
    "face_cascade = cv2.CascadeClassifier('haarcascade_frontalface_default.xml')\n",
    "#Read the input image\n",
    "#img = cv2.imread('test.jpg')\n",
    "\n",
    "cap= cv2.VideoCapture(0)\n",
    "\n",
    "while cap.isOpened():\n",
    "    a , img = cap.read()\n",
    "    gray = cv2.cvtColor(img , cv2.COLOR_BGR2GRAY)\n",
    "    faces = face_cascade.detectMultiScale(gray , 1.05 , 4)\n",
    "    \n",
    "    for (x,y,w,h) in faces:\n",
    "        cv2.rectangle(img , (x,y) , (x+w , h+y) , (255,0,0) , 3)\n",
    "        \n",
    "        cv2.imshow('img' , img)\n",
    "        if cv2.waitKey(1) == ord('q'):\n",
    "            \n",
    "            cv2.destroyAllWindows()\n",
    "            break\n",
    "            \n",
    "cap.release()"
   ]
  },
  {
   "cell_type": "code",
   "execution_count": 4,
   "id": "68f089f2",
   "metadata": {
    "ExecuteTime": {
     "end_time": "2024-02-07T22:09:57.550096Z",
     "start_time": "2024-02-07T22:09:04.497389Z"
    }
   },
   "outputs": [],
   "source": [
    "#Face and Eye Detection\n",
    "face_cascade = cv2.CascadeClassifier('haarcascade_frontalface_default.xml')\n",
    "eye_cascade = cv2.CascadeClassifier('haarcascade_eye.xml')\n",
    "#Read the input image\n",
    "#img = cv2.imread('test.jpg')\n",
    "cap= cv2.VideoCapture(0)\n",
    "\n",
    "while cap.isOpened():\n",
    "    _ , img = cap.read()\n",
    "    \n",
    "    gray = cv2.cvtColor(img , cv2.COLOR_BGR2GRAY)\n",
    "    faces = face_cascade.detectMultiScale(gray , 1.05 , 4)\n",
    "    \n",
    "    for (x , y , w , h) in faces:\n",
    "        cv2.rectangle(img , (x,y) , (x+w , y+h) , (255,0,0) , 3)\n",
    "        cv2.putText(img , \"Face\" , (x , y-4) , cv2.FONT_HERSHEY_COMPLEX, 1 , (255,255,255) , 2)\n",
    "        \n",
    "        eyes = eye_cascade.detectMultiScale(gray , 2.3 ,4)\n",
    "        \n",
    "        for (ex , ey , ew , eh) in eyes:\n",
    "                cv2.rectangle(img , (ex,ey) , (ex+ew ,ey + eh) , (0,255,0),5)\n",
    "                cv2.putText(img , \"Eye\",(ex , ey-3), cv2.FONT_HERSHEY_COMPLEX , 0.8 , (255,255,255),2)\n",
    "                \n",
    "    cv2.imshow(\"img\" , img)\n",
    "    if cv2.waitKey(1) == ord('q'):\n",
    "        cv2.destroyAllWindows()\n",
    "        break\n",
    "            \n",
    "cap.release()"
   ]
  },
  {
   "cell_type": "code",
   "execution_count": null,
   "id": "53391185",
   "metadata": {},
   "outputs": [],
   "source": []
  }
 ],
 "metadata": {
  "kernelspec": {
   "display_name": "Python 3 (ipykernel)",
   "language": "python",
   "name": "python3"
  },
  "language_info": {
   "codemirror_mode": {
    "name": "ipython",
    "version": 3
   },
   "file_extension": ".py",
   "mimetype": "text/x-python",
   "name": "python",
   "nbconvert_exporter": "python",
   "pygments_lexer": "ipython3",
   "version": "3.9.12"
  }
 },
 "nbformat": 4,
 "nbformat_minor": 5
}
