{
 "cells": [
  {
   "cell_type": "code",
   "execution_count": 1,
   "id": "ff8eafbb",
   "metadata": {
    "ExecuteTime": {
     "end_time": "2024-02-13T16:01:43.232670Z",
     "start_time": "2024-02-13T16:01:41.659456Z"
    }
   },
   "outputs": [],
   "source": [
    "import os\n",
    "import cv2\n",
    "os.chdir(\"C:\\AI Course\\codes\")\n",
    "from FaceRecognition import Facerec"
   ]
  },
  {
   "cell_type": "code",
   "execution_count": 2,
   "id": "5da701ab",
   "metadata": {
    "ExecuteTime": {
     "end_time": "2024-02-13T16:01:43.247388Z",
     "start_time": "2024-02-13T16:01:43.236077Z"
    }
   },
   "outputs": [],
   "source": [
    "fr = Facerec() #intialize object from the Facerec class"
   ]
  },
  {
   "cell_type": "code",
   "execution_count": 3,
   "id": "9acac672",
   "metadata": {
    "ExecuteTime": {
     "end_time": "2024-02-13T16:02:38.753608Z",
     "start_time": "2024-02-13T16:01:43.250388Z"
    }
   },
   "outputs": [
    {
     "name": "stdout",
     "output_type": "stream",
     "text": [
      "6 encoding images found.\n",
      "Image enconding has loaded\n"
     ]
    }
   ],
   "source": [
    "#Encoded faces from the folder\n",
    "fr.load_encoding_image(\"images/\")\n",
    "\n",
    "cap = cv2.VideoCapture(0)\n",
    "\n",
    "while True:\n",
    "    success , frame = cap.read()\n",
    "    \n",
    "    #Detect faces\n",
    "    face_locations , face_name = fr.detect_known_faces(frame)\n",
    "    \n",
    "    for face_loc , name in zip(face_locations , face_name):\n",
    "        y1 , x2 , y2 , x1 = face_loc[0], face_loc[1] ,face_loc[2] , face_loc[3]\n",
    "        \n",
    "        cv2.putText(frame ,name, (x1 , y1 - 20) , cv2.FONT_HERSHEY_COMPLEX,1 , (0,255,0),2)\n",
    "        cv2.rectangle(frame , (x1,y1) , (x2,y2),(0,255,0),4)\n",
    "        \n",
    "    cv2.imshow(\"frame\" , frame)\n",
    "    \n",
    "    if cv2.waitKey(1) == 27:\n",
    "        break\n",
    "        \n",
    "cap.release()\n",
    "cv2.destroyAllWindows()"
   ]
  }
 ],
 "metadata": {
  "kernelspec": {
   "display_name": "Python 3",
   "language": "python",
   "name": "python3"
  },
  "language_info": {
   "codemirror_mode": {
    "name": "ipython",
    "version": 3
   },
   "file_extension": ".py",
   "mimetype": "text/x-python",
   "name": "python",
   "nbconvert_exporter": "python",
   "pygments_lexer": "ipython3",
   "version": "3.6.13"
  }
 },
 "nbformat": 4,
 "nbformat_minor": 5
}
